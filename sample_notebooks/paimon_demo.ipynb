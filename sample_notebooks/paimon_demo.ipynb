{
 "cells": [
  {
   "cell_type": "code",
   "id": "initial_id",
   "metadata": {
    "collapsed": true,
    "ExecuteTime": {
     "end_time": "2024-12-31T19:05:05.329512Z",
     "start_time": "2024-12-31T19:05:02.196489Z"
    }
   },
   "source": [
    "from typing import TYPE_CHECKING\n",
    "from resinkit.flink_operation import ResultsFetchOpts\n",
    "from flink_gateway_api import Client\n",
    "import logging\n",
    "\n",
    "from resinkit.flink_session import FlinkSession\n",
    "\n",
    "# Configure the root logger\n",
    "logging.basicConfig(\n",
    "    level=logging.DEBUG,\n",
    "    format='%(asctime)s - %(name)s - %(levelname)s - %(message)s',\n",
    "    handlers=[logging.StreamHandler()]\n",
    ")\n",
    "logging.getLogger(\"httpcore.http11\").setLevel(logging.INFO)\n",
    "logging.getLogger('httpcore.connection').setLevel(logging.INFO)\n",
    "\n",
    "import nest_asyncio\n",
    "nest_asyncio.apply()  # Allow nested event loops\n",
    "fg_client = Client(base_url=\"http://localhost:8083\", raise_on_unexpected_status=True)\n",
    "\n",
    "if TYPE_CHECKING:\n",
    "    from resinkit.flink_operation import FlinkOperation\n",
    "\n",
    "\n",
    "sql_text = '''\n",
    "-- Create Paimon catalog\n",
    "\n",
    "DROP CATALOG IF EXISTS my_catalog;\n",
    "\n",
    "CREATE CATALOG my_catalog WITH (\n",
    "    'type'='paimon',\n",
    "    'warehouse'='file:/tmp/paimon'\n",
    ");\n",
    "\n",
    "USE CATALOG my_catalog;\n",
    "\n",
    "DROP TABLE IF EXISTS MyTable;\n",
    "\n",
    "-- Create table with Paimon-specific options\n",
    "CREATE TABLE MyTable (\n",
    "    user_id BIGINT,\n",
    "    item_id BIGINT,\n",
    "    behavior STRING,\n",
    "    dt STRING,\n",
    "    PRIMARY KEY (dt, user_id) NOT ENFORCED\n",
    ") PARTITIONED BY (dt) WITH (\n",
    "    'bucket' = '4',\n",
    "    'changelog-producer' = 'input'\n",
    ");\n",
    "\n",
    "INSERT INTO MyTable (user_id, item_id, behavior, dt) VALUES\n",
    "    (1001, 5001, 'view', '2024-01-01'),\n",
    "    (1001, 5002, 'like', '2024-01-01'),\n",
    "    (1002, 5001, 'cart', '2024-01-01'),\n",
    "    (1003, 5003, 'purchase', '2024-01-01'),\n",
    "    (1001, 5004, 'view', '2024-01-02'),\n",
    "    (1002, 5002, 'view', '2024-01-02'),\n",
    "    (1002, 5002, 'like', '2024-01-02'),\n",
    "    (1003, 5001, 'cart', '2024-01-02'),\n",
    "    (1004, 5005, 'view', '2024-01-02'),\n",
    "    (1001, 5003, 'purchase', '2024-01-03'),\n",
    "    (1002, 5004, 'view', '2024-01-03'),\n",
    "    (1003, 5002, 'like', '2024-01-03'),\n",
    "    (1004, 5001, 'cart', '2024-01-03'),\n",
    "    (1005, 5005, 'purchase', '2024-01-03'),\n",
    "    (1001, 5001, 'view', '2024-01-04');\n",
    "\n",
    "-- For batch query\n",
    "SET 'execution.runtime-mode' = 'batch';\n",
    "-- Remove the invalid orders table query\n",
    "-- Instead query the created table\n",
    "SELECT * FROM MyTable;\n",
    "'''\n",
    "dfs = []\n",
    "with FlinkSession(fg_client) as session:\n",
    "    for s in sql_text.split(';'):\n",
    "        s = s.strip()\n",
    "        if not s:\n",
    "            continue\n",
    "        print(f\"Executing: {s}\")\n",
    "        with session.execute(s).sync() as operation:  # type: FlinkOperation\n",
    "            dfs.append(operation.fetch(ResultsFetchOpts()).sync())\n",
    "dfs"
   ],
   "outputs": [
    {
     "name": "stderr",
     "output_type": "stream",
     "text": [
      "2024-12-31 11:05:02,313 - httpx - INFO - HTTP Request: POST http://localhost:8083/sessions \"HTTP/1.1 200 OK\"\n",
      "2024-12-31 11:05:02,317 - httpx - INFO - HTTP Request: POST http://localhost:8083/sessions/e3c1b117-ce21-4bcd-9a2b-6dfedfce801d/statements \"HTTP/1.1 200 OK\"\n",
      "2024-12-31 11:05:02,322 - httpx - INFO - HTTP Request: GET http://localhost:8083/sessions/e3c1b117-ce21-4bcd-9a2b-6dfedfce801d/operations/6500d5c6-3d83-45cb-812b-fe2bc209e604/result/0?rowFormat=JSON \"HTTP/1.1 200 OK\"\n",
      "2024-12-31 11:05:02,322 - resinkit.session_utils - DEBUG - Fetch result: {'nextResultUri': '/v2/sessions/e3c1b117-ce21-4bcd-9a2b-6dfedfce801d/operations/6500d5c6-3d83-45cb-812b-fe2bc209e604/result/0?rowFormat=JSON', 'resultType': 'NOT_READY'}\n",
      "2024-12-31 11:05:02,431 - httpx - INFO - HTTP Request: GET http://localhost:8083/v2/sessions/e3c1b117-ce21-4bcd-9a2b-6dfedfce801d/operations/6500d5c6-3d83-45cb-812b-fe2bc209e604/result/0?rowFormat=JSON \"HTTP/1.1 200 OK\"\n",
      "2024-12-31 11:05:02,432 - resinkit.session_utils - DEBUG - Fetch result: {'isQueryResult': False, 'nextResultUri': '/v2/sessions/e3c1b117-ce21-4bcd-9a2b-6dfedfce801d/operations/6500d5c6-3d83-45cb-812b-fe2bc209e604/result/1?rowFormat=JSON', 'resultKind': 'SUCCESS', 'resultType': 'PAYLOAD', 'results': {'columns': [{'name': 'result', 'logicalType': {'type': 'VARCHAR', 'nullable': True, 'length': 2147483647}, 'comment': None}], 'columnInfos': [], 'data': [{'kind': 'INSERT', 'fields': ['OK']}], 'fieldGetters': [], 'rowFormat': 'JSON'}}\n"
     ]
    },
    {
     "name": "stdout",
     "output_type": "stream",
     "text": [
      "Executing: -- Create Paimon catalog\n",
      "\n",
      "DROP CATALOG IF EXISTS my_catalog\n"
     ]
    },
    {
     "name": "stderr",
     "output_type": "stream",
     "text": [
      "2024-12-31 11:05:02,553 - httpx - INFO - HTTP Request: GET http://localhost:8083/v2/sessions/e3c1b117-ce21-4bcd-9a2b-6dfedfce801d/operations/6500d5c6-3d83-45cb-812b-fe2bc209e604/result/1?rowFormat=JSON \"HTTP/1.1 200 OK\"\n",
      "2024-12-31 11:05:02,554 - resinkit.session_utils - DEBUG - Fetch result: {'isQueryResult': False, 'resultKind': 'SUCCESS', 'resultType': 'EOS', 'results': {'columns': [{'name': 'result', 'logicalType': {'type': 'VARCHAR', 'nullable': True, 'length': 2147483647}, 'comment': None}], 'columnInfos': [], 'data': [], 'fieldGetters': [], 'rowFormat': 'JSON'}}\n",
      "2024-12-31 11:05:02,565 - httpx - INFO - HTTP Request: DELETE http://localhost:8083/sessions/e3c1b117-ce21-4bcd-9a2b-6dfedfce801d/operations/6500d5c6-3d83-45cb-812b-fe2bc209e604/close \"HTTP/1.1 200 OK\"\n",
      "2024-12-31 11:05:02,568 - httpx - INFO - HTTP Request: POST http://localhost:8083/sessions/e3c1b117-ce21-4bcd-9a2b-6dfedfce801d/statements \"HTTP/1.1 200 OK\"\n",
      "2024-12-31 11:05:02,570 - httpx - INFO - HTTP Request: GET http://localhost:8083/sessions/e3c1b117-ce21-4bcd-9a2b-6dfedfce801d/operations/a8f127f9-a17d-40b8-91ab-23965dc8c93c/result/0?rowFormat=JSON \"HTTP/1.1 200 OK\"\n",
      "2024-12-31 11:05:02,570 - resinkit.session_utils - DEBUG - Fetch result: {'nextResultUri': '/v2/sessions/e3c1b117-ce21-4bcd-9a2b-6dfedfce801d/operations/a8f127f9-a17d-40b8-91ab-23965dc8c93c/result/0?rowFormat=JSON', 'resultType': 'NOT_READY'}\n",
      "2024-12-31 11:05:02,696 - httpx - INFO - HTTP Request: GET http://localhost:8083/v2/sessions/e3c1b117-ce21-4bcd-9a2b-6dfedfce801d/operations/a8f127f9-a17d-40b8-91ab-23965dc8c93c/result/0?rowFormat=JSON \"HTTP/1.1 200 OK\"\n",
      "2024-12-31 11:05:02,697 - resinkit.session_utils - DEBUG - Fetch result: {'isQueryResult': False, 'nextResultUri': '/v2/sessions/e3c1b117-ce21-4bcd-9a2b-6dfedfce801d/operations/a8f127f9-a17d-40b8-91ab-23965dc8c93c/result/1?rowFormat=JSON', 'resultKind': 'SUCCESS', 'resultType': 'PAYLOAD', 'results': {'columns': [{'name': 'result', 'logicalType': {'type': 'VARCHAR', 'nullable': True, 'length': 2147483647}, 'comment': None}], 'columnInfos': [], 'data': [{'kind': 'INSERT', 'fields': ['OK']}], 'fieldGetters': [], 'rowFormat': 'JSON'}}\n"
     ]
    },
    {
     "name": "stdout",
     "output_type": "stream",
     "text": [
      "Executing: CREATE CATALOG my_catalog WITH (\n",
      "    'type'='paimon',\n",
      "    'warehouse'='file:/tmp/paimon'\n",
      ")\n"
     ]
    },
    {
     "name": "stderr",
     "output_type": "stream",
     "text": [
      "2024-12-31 11:05:02,805 - httpx - INFO - HTTP Request: GET http://localhost:8083/v2/sessions/e3c1b117-ce21-4bcd-9a2b-6dfedfce801d/operations/a8f127f9-a17d-40b8-91ab-23965dc8c93c/result/1?rowFormat=JSON \"HTTP/1.1 200 OK\"\n",
      "2024-12-31 11:05:02,806 - resinkit.session_utils - DEBUG - Fetch result: {'isQueryResult': False, 'resultKind': 'SUCCESS', 'resultType': 'EOS', 'results': {'columns': [{'name': 'result', 'logicalType': {'type': 'VARCHAR', 'nullable': True, 'length': 2147483647}, 'comment': None}], 'columnInfos': [], 'data': [], 'fieldGetters': [], 'rowFormat': 'JSON'}}\n",
      "2024-12-31 11:05:02,807 - httpx - INFO - HTTP Request: DELETE http://localhost:8083/sessions/e3c1b117-ce21-4bcd-9a2b-6dfedfce801d/operations/a8f127f9-a17d-40b8-91ab-23965dc8c93c/close \"HTTP/1.1 200 OK\"\n",
      "2024-12-31 11:05:02,809 - httpx - INFO - HTTP Request: POST http://localhost:8083/sessions/e3c1b117-ce21-4bcd-9a2b-6dfedfce801d/statements \"HTTP/1.1 200 OK\"\n",
      "2024-12-31 11:05:02,811 - httpx - INFO - HTTP Request: GET http://localhost:8083/sessions/e3c1b117-ce21-4bcd-9a2b-6dfedfce801d/operations/75cb97a0-6f58-4750-98a9-ff20a01316af/result/0?rowFormat=JSON \"HTTP/1.1 200 OK\"\n",
      "2024-12-31 11:05:02,812 - resinkit.session_utils - DEBUG - Fetch result: {'nextResultUri': '/v2/sessions/e3c1b117-ce21-4bcd-9a2b-6dfedfce801d/operations/75cb97a0-6f58-4750-98a9-ff20a01316af/result/0?rowFormat=JSON', 'resultType': 'NOT_READY'}\n",
      "2024-12-31 11:05:02,915 - httpx - INFO - HTTP Request: GET http://localhost:8083/v2/sessions/e3c1b117-ce21-4bcd-9a2b-6dfedfce801d/operations/75cb97a0-6f58-4750-98a9-ff20a01316af/result/0?rowFormat=JSON \"HTTP/1.1 200 OK\"\n",
      "2024-12-31 11:05:02,916 - resinkit.session_utils - DEBUG - Fetch result: {'isQueryResult': False, 'nextResultUri': '/v2/sessions/e3c1b117-ce21-4bcd-9a2b-6dfedfce801d/operations/75cb97a0-6f58-4750-98a9-ff20a01316af/result/1?rowFormat=JSON', 'resultKind': 'SUCCESS', 'resultType': 'PAYLOAD', 'results': {'columns': [{'name': 'result', 'logicalType': {'type': 'VARCHAR', 'nullable': True, 'length': 2147483647}, 'comment': None}], 'columnInfos': [], 'data': [{'kind': 'INSERT', 'fields': ['OK']}], 'fieldGetters': [], 'rowFormat': 'JSON'}}\n"
     ]
    },
    {
     "name": "stdout",
     "output_type": "stream",
     "text": [
      "Executing: USE CATALOG my_catalog\n"
     ]
    },
    {
     "name": "stderr",
     "output_type": "stream",
     "text": [
      "2024-12-31 11:05:03,025 - httpx - INFO - HTTP Request: GET http://localhost:8083/v2/sessions/e3c1b117-ce21-4bcd-9a2b-6dfedfce801d/operations/75cb97a0-6f58-4750-98a9-ff20a01316af/result/1?rowFormat=JSON \"HTTP/1.1 200 OK\"\n",
      "2024-12-31 11:05:03,026 - resinkit.session_utils - DEBUG - Fetch result: {'isQueryResult': False, 'resultKind': 'SUCCESS', 'resultType': 'EOS', 'results': {'columns': [{'name': 'result', 'logicalType': {'type': 'VARCHAR', 'nullable': True, 'length': 2147483647}, 'comment': None}], 'columnInfos': [], 'data': [], 'fieldGetters': [], 'rowFormat': 'JSON'}}\n",
      "2024-12-31 11:05:03,030 - httpx - INFO - HTTP Request: DELETE http://localhost:8083/sessions/e3c1b117-ce21-4bcd-9a2b-6dfedfce801d/operations/75cb97a0-6f58-4750-98a9-ff20a01316af/close \"HTTP/1.1 200 OK\"\n",
      "2024-12-31 11:05:03,034 - httpx - INFO - HTTP Request: POST http://localhost:8083/sessions/e3c1b117-ce21-4bcd-9a2b-6dfedfce801d/statements \"HTTP/1.1 200 OK\"\n",
      "2024-12-31 11:05:03,037 - httpx - INFO - HTTP Request: GET http://localhost:8083/sessions/e3c1b117-ce21-4bcd-9a2b-6dfedfce801d/operations/2d738a47-1104-441b-bb3a-2e27cfe90dc6/result/0?rowFormat=JSON \"HTTP/1.1 200 OK\"\n",
      "2024-12-31 11:05:03,038 - resinkit.session_utils - DEBUG - Fetch result: {'nextResultUri': '/v2/sessions/e3c1b117-ce21-4bcd-9a2b-6dfedfce801d/operations/2d738a47-1104-441b-bb3a-2e27cfe90dc6/result/0?rowFormat=JSON', 'resultType': 'NOT_READY'}\n",
      "2024-12-31 11:05:03,145 - httpx - INFO - HTTP Request: GET http://localhost:8083/v2/sessions/e3c1b117-ce21-4bcd-9a2b-6dfedfce801d/operations/2d738a47-1104-441b-bb3a-2e27cfe90dc6/result/0?rowFormat=JSON \"HTTP/1.1 200 OK\"\n",
      "2024-12-31 11:05:03,146 - resinkit.session_utils - DEBUG - Fetch result: {'isQueryResult': False, 'nextResultUri': '/v2/sessions/e3c1b117-ce21-4bcd-9a2b-6dfedfce801d/operations/2d738a47-1104-441b-bb3a-2e27cfe90dc6/result/1?rowFormat=JSON', 'resultKind': 'SUCCESS', 'resultType': 'PAYLOAD', 'results': {'columns': [{'name': 'result', 'logicalType': {'type': 'VARCHAR', 'nullable': True, 'length': 2147483647}, 'comment': None}], 'columnInfos': [], 'data': [{'kind': 'INSERT', 'fields': ['OK']}], 'fieldGetters': [], 'rowFormat': 'JSON'}}\n"
     ]
    },
    {
     "name": "stdout",
     "output_type": "stream",
     "text": [
      "Executing: DROP TABLE IF EXISTS MyTable\n"
     ]
    },
    {
     "name": "stderr",
     "output_type": "stream",
     "text": [
      "2024-12-31 11:05:03,271 - httpx - INFO - HTTP Request: GET http://localhost:8083/v2/sessions/e3c1b117-ce21-4bcd-9a2b-6dfedfce801d/operations/2d738a47-1104-441b-bb3a-2e27cfe90dc6/result/1?rowFormat=JSON \"HTTP/1.1 200 OK\"\n",
      "2024-12-31 11:05:03,272 - resinkit.session_utils - DEBUG - Fetch result: {'isQueryResult': False, 'resultKind': 'SUCCESS', 'resultType': 'EOS', 'results': {'columns': [{'name': 'result', 'logicalType': {'type': 'VARCHAR', 'nullable': True, 'length': 2147483647}, 'comment': None}], 'columnInfos': [], 'data': [], 'fieldGetters': [], 'rowFormat': 'JSON'}}\n",
      "2024-12-31 11:05:03,276 - httpx - INFO - HTTP Request: DELETE http://localhost:8083/sessions/e3c1b117-ce21-4bcd-9a2b-6dfedfce801d/operations/2d738a47-1104-441b-bb3a-2e27cfe90dc6/close \"HTTP/1.1 200 OK\"\n",
      "2024-12-31 11:05:03,278 - httpx - INFO - HTTP Request: POST http://localhost:8083/sessions/e3c1b117-ce21-4bcd-9a2b-6dfedfce801d/statements \"HTTP/1.1 200 OK\"\n",
      "2024-12-31 11:05:03,280 - httpx - INFO - HTTP Request: GET http://localhost:8083/sessions/e3c1b117-ce21-4bcd-9a2b-6dfedfce801d/operations/2a45b495-c139-44d3-bd31-bbf5dc432f92/result/0?rowFormat=JSON \"HTTP/1.1 200 OK\"\n",
      "2024-12-31 11:05:03,281 - resinkit.session_utils - DEBUG - Fetch result: {'nextResultUri': '/v2/sessions/e3c1b117-ce21-4bcd-9a2b-6dfedfce801d/operations/2a45b495-c139-44d3-bd31-bbf5dc432f92/result/0?rowFormat=JSON', 'resultType': 'NOT_READY'}\n",
      "2024-12-31 11:05:03,385 - httpx - INFO - HTTP Request: GET http://localhost:8083/v2/sessions/e3c1b117-ce21-4bcd-9a2b-6dfedfce801d/operations/2a45b495-c139-44d3-bd31-bbf5dc432f92/result/0?rowFormat=JSON \"HTTP/1.1 200 OK\"\n",
      "2024-12-31 11:05:03,385 - resinkit.session_utils - DEBUG - Fetch result: {'isQueryResult': False, 'nextResultUri': '/v2/sessions/e3c1b117-ce21-4bcd-9a2b-6dfedfce801d/operations/2a45b495-c139-44d3-bd31-bbf5dc432f92/result/1?rowFormat=JSON', 'resultKind': 'SUCCESS', 'resultType': 'PAYLOAD', 'results': {'columns': [{'name': 'result', 'logicalType': {'type': 'VARCHAR', 'nullable': True, 'length': 2147483647}, 'comment': None}], 'columnInfos': [], 'data': [{'kind': 'INSERT', 'fields': ['OK']}], 'fieldGetters': [], 'rowFormat': 'JSON'}}\n"
     ]
    },
    {
     "name": "stdout",
     "output_type": "stream",
     "text": [
      "Executing: -- Create table with Paimon-specific options\n",
      "CREATE TABLE MyTable (\n",
      "    user_id BIGINT,\n",
      "    item_id BIGINT,\n",
      "    behavior STRING,\n",
      "    dt STRING,\n",
      "    PRIMARY KEY (dt, user_id) NOT ENFORCED\n",
      ") PARTITIONED BY (dt) WITH (\n",
      "    'bucket' = '4',\n",
      "    'changelog-producer' = 'input'\n",
      ")\n"
     ]
    },
    {
     "name": "stderr",
     "output_type": "stream",
     "text": [
      "2024-12-31 11:05:03,499 - httpx - INFO - HTTP Request: GET http://localhost:8083/v2/sessions/e3c1b117-ce21-4bcd-9a2b-6dfedfce801d/operations/2a45b495-c139-44d3-bd31-bbf5dc432f92/result/1?rowFormat=JSON \"HTTP/1.1 200 OK\"\n",
      "2024-12-31 11:05:03,500 - resinkit.session_utils - DEBUG - Fetch result: {'isQueryResult': False, 'resultKind': 'SUCCESS', 'resultType': 'EOS', 'results': {'columns': [{'name': 'result', 'logicalType': {'type': 'VARCHAR', 'nullable': True, 'length': 2147483647}, 'comment': None}], 'columnInfos': [], 'data': [], 'fieldGetters': [], 'rowFormat': 'JSON'}}\n",
      "2024-12-31 11:05:03,504 - httpx - INFO - HTTP Request: DELETE http://localhost:8083/sessions/e3c1b117-ce21-4bcd-9a2b-6dfedfce801d/operations/2a45b495-c139-44d3-bd31-bbf5dc432f92/close \"HTTP/1.1 200 OK\"\n",
      "2024-12-31 11:05:03,511 - httpx - INFO - HTTP Request: POST http://localhost:8083/sessions/e3c1b117-ce21-4bcd-9a2b-6dfedfce801d/statements \"HTTP/1.1 200 OK\"\n",
      "2024-12-31 11:05:03,527 - httpx - INFO - HTTP Request: GET http://localhost:8083/sessions/e3c1b117-ce21-4bcd-9a2b-6dfedfce801d/operations/fce12197-31f1-4a6e-a714-13e65918fc2b/result/0?rowFormat=JSON \"HTTP/1.1 200 OK\"\n",
      "2024-12-31 11:05:03,528 - resinkit.session_utils - DEBUG - Fetch result: {'nextResultUri': '/v2/sessions/e3c1b117-ce21-4bcd-9a2b-6dfedfce801d/operations/fce12197-31f1-4a6e-a714-13e65918fc2b/result/0?rowFormat=JSON', 'resultType': 'NOT_READY'}\n",
      "2024-12-31 11:05:03,636 - httpx - INFO - HTTP Request: GET http://localhost:8083/v2/sessions/e3c1b117-ce21-4bcd-9a2b-6dfedfce801d/operations/fce12197-31f1-4a6e-a714-13e65918fc2b/result/0?rowFormat=JSON \"HTTP/1.1 200 OK\"\n",
      "2024-12-31 11:05:03,636 - resinkit.session_utils - DEBUG - Fetch result: {'nextResultUri': '/v2/sessions/e3c1b117-ce21-4bcd-9a2b-6dfedfce801d/operations/fce12197-31f1-4a6e-a714-13e65918fc2b/result/0?rowFormat=JSON', 'resultType': 'NOT_READY'}\n"
     ]
    },
    {
     "name": "stdout",
     "output_type": "stream",
     "text": [
      "Executing: INSERT INTO MyTable (user_id, item_id, behavior, dt) VALUES\n",
      "    (1001, 5001, 'view', '2024-01-01'),\n",
      "    (1001, 5002, 'like', '2024-01-01'),\n",
      "    (1002, 5001, 'cart', '2024-01-01'),\n",
      "    (1003, 5003, 'purchase', '2024-01-01'),\n",
      "    (1001, 5004, 'view', '2024-01-02'),\n",
      "    (1002, 5002, 'view', '2024-01-02'),\n",
      "    (1002, 5002, 'like', '2024-01-02'),\n",
      "    (1003, 5001, 'cart', '2024-01-02'),\n",
      "    (1004, 5005, 'view', '2024-01-02'),\n",
      "    (1001, 5003, 'purchase', '2024-01-03'),\n",
      "    (1002, 5004, 'view', '2024-01-03'),\n",
      "    (1003, 5002, 'like', '2024-01-03'),\n",
      "    (1004, 5001, 'cart', '2024-01-03'),\n",
      "    (1005, 5005, 'purchase', '2024-01-03'),\n",
      "    (1001, 5001, 'view', '2024-01-04')\n"
     ]
    },
    {
     "name": "stderr",
     "output_type": "stream",
     "text": [
      "2024-12-31 11:05:03,743 - httpx - INFO - HTTP Request: GET http://localhost:8083/v2/sessions/e3c1b117-ce21-4bcd-9a2b-6dfedfce801d/operations/fce12197-31f1-4a6e-a714-13e65918fc2b/result/0?rowFormat=JSON \"HTTP/1.1 200 OK\"\n",
      "2024-12-31 11:05:03,745 - resinkit.session_utils - DEBUG - Fetch result: {'isQueryResult': False, 'jobID': '1f171a4d544905597e5a6dca7232f843', 'nextResultUri': '/v2/sessions/e3c1b117-ce21-4bcd-9a2b-6dfedfce801d/operations/fce12197-31f1-4a6e-a714-13e65918fc2b/result/1?rowFormat=JSON', 'resultKind': 'SUCCESS_WITH_CONTENT', 'resultType': 'PAYLOAD', 'results': {'columns': [{'name': 'job id', 'logicalType': {'type': 'VARCHAR', 'nullable': True, 'length': 2147483647}, 'comment': None}], 'columnInfos': [], 'data': [{'kind': 'INSERT', 'fields': ['1f171a4d544905597e5a6dca7232f843']}], 'fieldGetters': [], 'rowFormat': 'JSON'}}\n",
      "2024-12-31 11:05:03,853 - httpx - INFO - HTTP Request: GET http://localhost:8083/v2/sessions/e3c1b117-ce21-4bcd-9a2b-6dfedfce801d/operations/fce12197-31f1-4a6e-a714-13e65918fc2b/result/1?rowFormat=JSON \"HTTP/1.1 200 OK\"\n",
      "2024-12-31 11:05:03,854 - resinkit.session_utils - DEBUG - Fetch result: {'isQueryResult': False, 'jobID': '1f171a4d544905597e5a6dca7232f843', 'resultKind': 'SUCCESS_WITH_CONTENT', 'resultType': 'EOS', 'results': {'columns': [{'name': 'job id', 'logicalType': {'type': 'VARCHAR', 'nullable': True, 'length': 2147483647}, 'comment': None}], 'columnInfos': [], 'data': [], 'fieldGetters': [], 'rowFormat': 'JSON'}}\n",
      "2024-12-31 11:05:03,858 - httpx - INFO - HTTP Request: DELETE http://localhost:8083/sessions/e3c1b117-ce21-4bcd-9a2b-6dfedfce801d/operations/fce12197-31f1-4a6e-a714-13e65918fc2b/close \"HTTP/1.1 200 OK\"\n",
      "2024-12-31 11:05:03,861 - httpx - INFO - HTTP Request: POST http://localhost:8083/sessions/e3c1b117-ce21-4bcd-9a2b-6dfedfce801d/statements \"HTTP/1.1 200 OK\"\n",
      "2024-12-31 11:05:03,867 - httpx - INFO - HTTP Request: GET http://localhost:8083/sessions/e3c1b117-ce21-4bcd-9a2b-6dfedfce801d/operations/de3e3c9c-7522-45ed-b7e8-cb2bc7b67792/result/0?rowFormat=JSON \"HTTP/1.1 200 OK\"\n",
      "2024-12-31 11:05:03,868 - resinkit.session_utils - DEBUG - Fetch result: {'nextResultUri': '/v2/sessions/e3c1b117-ce21-4bcd-9a2b-6dfedfce801d/operations/de3e3c9c-7522-45ed-b7e8-cb2bc7b67792/result/0?rowFormat=JSON', 'resultType': 'NOT_READY'}\n",
      "2024-12-31 11:05:03,975 - httpx - INFO - HTTP Request: GET http://localhost:8083/v2/sessions/e3c1b117-ce21-4bcd-9a2b-6dfedfce801d/operations/de3e3c9c-7522-45ed-b7e8-cb2bc7b67792/result/0?rowFormat=JSON \"HTTP/1.1 200 OK\"\n",
      "2024-12-31 11:05:03,975 - resinkit.session_utils - DEBUG - Fetch result: {'isQueryResult': False, 'nextResultUri': '/v2/sessions/e3c1b117-ce21-4bcd-9a2b-6dfedfce801d/operations/de3e3c9c-7522-45ed-b7e8-cb2bc7b67792/result/1?rowFormat=JSON', 'resultKind': 'SUCCESS', 'resultType': 'PAYLOAD', 'results': {'columns': [{'name': 'result', 'logicalType': {'type': 'VARCHAR', 'nullable': True, 'length': 2147483647}, 'comment': None}], 'columnInfos': [], 'data': [{'kind': 'INSERT', 'fields': ['OK']}], 'fieldGetters': [], 'rowFormat': 'JSON'}}\n"
     ]
    },
    {
     "name": "stdout",
     "output_type": "stream",
     "text": [
      "Executing: -- For batch query\n",
      "SET 'execution.runtime-mode' = 'batch'\n"
     ]
    },
    {
     "name": "stderr",
     "output_type": "stream",
     "text": [
      "2024-12-31 11:05:04,082 - httpx - INFO - HTTP Request: GET http://localhost:8083/v2/sessions/e3c1b117-ce21-4bcd-9a2b-6dfedfce801d/operations/de3e3c9c-7522-45ed-b7e8-cb2bc7b67792/result/1?rowFormat=JSON \"HTTP/1.1 200 OK\"\n",
      "2024-12-31 11:05:04,083 - resinkit.session_utils - DEBUG - Fetch result: {'isQueryResult': False, 'resultKind': 'SUCCESS', 'resultType': 'EOS', 'results': {'columns': [{'name': 'result', 'logicalType': {'type': 'VARCHAR', 'nullable': True, 'length': 2147483647}, 'comment': None}], 'columnInfos': [], 'data': [], 'fieldGetters': [], 'rowFormat': 'JSON'}}\n",
      "2024-12-31 11:05:04,085 - httpx - INFO - HTTP Request: DELETE http://localhost:8083/sessions/e3c1b117-ce21-4bcd-9a2b-6dfedfce801d/operations/de3e3c9c-7522-45ed-b7e8-cb2bc7b67792/close \"HTTP/1.1 200 OK\"\n",
      "2024-12-31 11:05:04,087 - httpx - INFO - HTTP Request: POST http://localhost:8083/sessions/e3c1b117-ce21-4bcd-9a2b-6dfedfce801d/statements \"HTTP/1.1 200 OK\"\n",
      "2024-12-31 11:05:04,089 - httpx - INFO - HTTP Request: GET http://localhost:8083/sessions/e3c1b117-ce21-4bcd-9a2b-6dfedfce801d/operations/d0944ef1-02ae-4577-b9ac-c9c4c23e4273/result/0?rowFormat=JSON \"HTTP/1.1 200 OK\"\n",
      "2024-12-31 11:05:04,089 - resinkit.session_utils - DEBUG - Fetch result: {'nextResultUri': '/v2/sessions/e3c1b117-ce21-4bcd-9a2b-6dfedfce801d/operations/d0944ef1-02ae-4577-b9ac-c9c4c23e4273/result/0?rowFormat=JSON', 'resultType': 'NOT_READY'}\n",
      "2024-12-31 11:05:04,194 - httpx - INFO - HTTP Request: GET http://localhost:8083/v2/sessions/e3c1b117-ce21-4bcd-9a2b-6dfedfce801d/operations/d0944ef1-02ae-4577-b9ac-c9c4c23e4273/result/0?rowFormat=JSON \"HTTP/1.1 200 OK\"\n",
      "2024-12-31 11:05:04,197 - resinkit.session_utils - DEBUG - Fetch result: {'nextResultUri': '/v2/sessions/e3c1b117-ce21-4bcd-9a2b-6dfedfce801d/operations/d0944ef1-02ae-4577-b9ac-c9c4c23e4273/result/0?rowFormat=JSON', 'resultType': 'NOT_READY'}\n"
     ]
    },
    {
     "name": "stdout",
     "output_type": "stream",
     "text": [
      "Executing: -- Remove the invalid orders table query\n",
      "-- Instead query the created table\n",
      "SELECT * FROM MyTable\n"
     ]
    },
    {
     "name": "stderr",
     "output_type": "stream",
     "text": [
      "2024-12-31 11:05:04,301 - httpx - INFO - HTTP Request: GET http://localhost:8083/v2/sessions/e3c1b117-ce21-4bcd-9a2b-6dfedfce801d/operations/d0944ef1-02ae-4577-b9ac-c9c4c23e4273/result/0?rowFormat=JSON \"HTTP/1.1 200 OK\"\n",
      "2024-12-31 11:05:04,302 - resinkit.session_utils - DEBUG - Fetch result: {'nextResultUri': '/v2/sessions/e3c1b117-ce21-4bcd-9a2b-6dfedfce801d/operations/d0944ef1-02ae-4577-b9ac-c9c4c23e4273/result/0?rowFormat=JSON', 'resultType': 'NOT_READY'}\n",
      "2024-12-31 11:05:04,406 - httpx - INFO - HTTP Request: GET http://localhost:8083/v2/sessions/e3c1b117-ce21-4bcd-9a2b-6dfedfce801d/operations/d0944ef1-02ae-4577-b9ac-c9c4c23e4273/result/0?rowFormat=JSON \"HTTP/1.1 200 OK\"\n",
      "2024-12-31 11:05:04,409 - resinkit.session_utils - DEBUG - Fetch result: {'nextResultUri': '/v2/sessions/e3c1b117-ce21-4bcd-9a2b-6dfedfce801d/operations/d0944ef1-02ae-4577-b9ac-c9c4c23e4273/result/0?rowFormat=JSON', 'resultType': 'NOT_READY'}\n",
      "2024-12-31 11:05:04,517 - httpx - INFO - HTTP Request: GET http://localhost:8083/v2/sessions/e3c1b117-ce21-4bcd-9a2b-6dfedfce801d/operations/d0944ef1-02ae-4577-b9ac-c9c4c23e4273/result/0?rowFormat=JSON \"HTTP/1.1 200 OK\"\n",
      "2024-12-31 11:05:04,518 - resinkit.session_utils - DEBUG - Fetch result: {'isQueryResult': True, 'jobID': 'c6a29e635485424fcd450460147547fa', 'nextResultUri': '/v2/sessions/e3c1b117-ce21-4bcd-9a2b-6dfedfce801d/operations/d0944ef1-02ae-4577-b9ac-c9c4c23e4273/result/1?rowFormat=JSON', 'resultKind': 'SUCCESS_WITH_CONTENT', 'resultType': 'PAYLOAD', 'results': {'columns': [{'name': 'user_id', 'logicalType': {'type': 'BIGINT', 'nullable': False}, 'comment': None}, {'name': 'item_id', 'logicalType': {'type': 'BIGINT', 'nullable': True}, 'comment': None}, {'name': 'behavior', 'logicalType': {'type': 'VARCHAR', 'nullable': True, 'length': 2147483647}, 'comment': None}, {'name': 'dt', 'logicalType': {'type': 'VARCHAR', 'nullable': False, 'length': 2147483647}, 'comment': None}], 'columnInfos': [], 'data': [], 'fieldGetters': [], 'rowFormat': 'JSON'}}\n",
      "2024-12-31 11:05:04,628 - httpx - INFO - HTTP Request: GET http://localhost:8083/v2/sessions/e3c1b117-ce21-4bcd-9a2b-6dfedfce801d/operations/d0944ef1-02ae-4577-b9ac-c9c4c23e4273/result/1?rowFormat=JSON \"HTTP/1.1 200 OK\"\n",
      "2024-12-31 11:05:04,630 - resinkit.session_utils - DEBUG - Fetch result: {'isQueryResult': True, 'jobID': 'c6a29e635485424fcd450460147547fa', 'nextResultUri': '/v2/sessions/e3c1b117-ce21-4bcd-9a2b-6dfedfce801d/operations/d0944ef1-02ae-4577-b9ac-c9c4c23e4273/result/2?rowFormat=JSON', 'resultKind': 'SUCCESS_WITH_CONTENT', 'resultType': 'PAYLOAD', 'results': {'columns': [{'name': 'user_id', 'logicalType': {'type': 'BIGINT', 'nullable': False}, 'comment': None}, {'name': 'item_id', 'logicalType': {'type': 'BIGINT', 'nullable': True}, 'comment': None}, {'name': 'behavior', 'logicalType': {'type': 'VARCHAR', 'nullable': True, 'length': 2147483647}, 'comment': None}, {'name': 'dt', 'logicalType': {'type': 'VARCHAR', 'nullable': False, 'length': 2147483647}, 'comment': None}], 'columnInfos': [], 'data': [], 'fieldGetters': [], 'rowFormat': 'JSON'}}\n",
      "2024-12-31 11:05:04,748 - httpx - INFO - HTTP Request: GET http://localhost:8083/v2/sessions/e3c1b117-ce21-4bcd-9a2b-6dfedfce801d/operations/d0944ef1-02ae-4577-b9ac-c9c4c23e4273/result/2?rowFormat=JSON \"HTTP/1.1 200 OK\"\n",
      "2024-12-31 11:05:04,751 - resinkit.session_utils - DEBUG - Fetch result: {'isQueryResult': True, 'jobID': 'c6a29e635485424fcd450460147547fa', 'nextResultUri': '/v2/sessions/e3c1b117-ce21-4bcd-9a2b-6dfedfce801d/operations/d0944ef1-02ae-4577-b9ac-c9c4c23e4273/result/3?rowFormat=JSON', 'resultKind': 'SUCCESS_WITH_CONTENT', 'resultType': 'PAYLOAD', 'results': {'columns': [{'name': 'user_id', 'logicalType': {'type': 'BIGINT', 'nullable': False}, 'comment': None}, {'name': 'item_id', 'logicalType': {'type': 'BIGINT', 'nullable': True}, 'comment': None}, {'name': 'behavior', 'logicalType': {'type': 'VARCHAR', 'nullable': True, 'length': 2147483647}, 'comment': None}, {'name': 'dt', 'logicalType': {'type': 'VARCHAR', 'nullable': False, 'length': 2147483647}, 'comment': None}], 'columnInfos': [], 'data': [], 'fieldGetters': [], 'rowFormat': 'JSON'}}\n",
      "2024-12-31 11:05:04,858 - httpx - INFO - HTTP Request: GET http://localhost:8083/v2/sessions/e3c1b117-ce21-4bcd-9a2b-6dfedfce801d/operations/d0944ef1-02ae-4577-b9ac-c9c4c23e4273/result/3?rowFormat=JSON \"HTTP/1.1 200 OK\"\n",
      "2024-12-31 11:05:04,859 - resinkit.session_utils - DEBUG - Fetch result: {'isQueryResult': True, 'jobID': 'c6a29e635485424fcd450460147547fa', 'nextResultUri': '/v2/sessions/e3c1b117-ce21-4bcd-9a2b-6dfedfce801d/operations/d0944ef1-02ae-4577-b9ac-c9c4c23e4273/result/4?rowFormat=JSON', 'resultKind': 'SUCCESS_WITH_CONTENT', 'resultType': 'PAYLOAD', 'results': {'columns': [{'name': 'user_id', 'logicalType': {'type': 'BIGINT', 'nullable': False}, 'comment': None}, {'name': 'item_id', 'logicalType': {'type': 'BIGINT', 'nullable': True}, 'comment': None}, {'name': 'behavior', 'logicalType': {'type': 'VARCHAR', 'nullable': True, 'length': 2147483647}, 'comment': None}, {'name': 'dt', 'logicalType': {'type': 'VARCHAR', 'nullable': False, 'length': 2147483647}, 'comment': None}], 'columnInfos': [], 'data': [], 'fieldGetters': [], 'rowFormat': 'JSON'}}\n",
      "2024-12-31 11:05:04,965 - httpx - INFO - HTTP Request: GET http://localhost:8083/v2/sessions/e3c1b117-ce21-4bcd-9a2b-6dfedfce801d/operations/d0944ef1-02ae-4577-b9ac-c9c4c23e4273/result/4?rowFormat=JSON \"HTTP/1.1 200 OK\"\n",
      "2024-12-31 11:05:04,966 - resinkit.session_utils - DEBUG - Fetch result: {'isQueryResult': True, 'jobID': 'c6a29e635485424fcd450460147547fa', 'nextResultUri': '/v2/sessions/e3c1b117-ce21-4bcd-9a2b-6dfedfce801d/operations/d0944ef1-02ae-4577-b9ac-c9c4c23e4273/result/5?rowFormat=JSON', 'resultKind': 'SUCCESS_WITH_CONTENT', 'resultType': 'PAYLOAD', 'results': {'columns': [{'name': 'user_id', 'logicalType': {'type': 'BIGINT', 'nullable': False}, 'comment': None}, {'name': 'item_id', 'logicalType': {'type': 'BIGINT', 'nullable': True}, 'comment': None}, {'name': 'behavior', 'logicalType': {'type': 'VARCHAR', 'nullable': True, 'length': 2147483647}, 'comment': None}, {'name': 'dt', 'logicalType': {'type': 'VARCHAR', 'nullable': False, 'length': 2147483647}, 'comment': None}], 'columnInfos': [], 'data': [], 'fieldGetters': [], 'rowFormat': 'JSON'}}\n",
      "2024-12-31 11:05:05,075 - httpx - INFO - HTTP Request: GET http://localhost:8083/v2/sessions/e3c1b117-ce21-4bcd-9a2b-6dfedfce801d/operations/d0944ef1-02ae-4577-b9ac-c9c4c23e4273/result/5?rowFormat=JSON \"HTTP/1.1 200 OK\"\n",
      "2024-12-31 11:05:05,076 - resinkit.session_utils - DEBUG - Fetch result: {'isQueryResult': True, 'jobID': 'c6a29e635485424fcd450460147547fa', 'nextResultUri': '/v2/sessions/e3c1b117-ce21-4bcd-9a2b-6dfedfce801d/operations/d0944ef1-02ae-4577-b9ac-c9c4c23e4273/result/6?rowFormat=JSON', 'resultKind': 'SUCCESS_WITH_CONTENT', 'resultType': 'PAYLOAD', 'results': {'columns': [{'name': 'user_id', 'logicalType': {'type': 'BIGINT', 'nullable': False}, 'comment': None}, {'name': 'item_id', 'logicalType': {'type': 'BIGINT', 'nullable': True}, 'comment': None}, {'name': 'behavior', 'logicalType': {'type': 'VARCHAR', 'nullable': True, 'length': 2147483647}, 'comment': None}, {'name': 'dt', 'logicalType': {'type': 'VARCHAR', 'nullable': False, 'length': 2147483647}, 'comment': None}], 'columnInfos': [], 'data': [], 'fieldGetters': [], 'rowFormat': 'JSON'}}\n",
      "2024-12-31 11:05:05,184 - httpx - INFO - HTTP Request: GET http://localhost:8083/v2/sessions/e3c1b117-ce21-4bcd-9a2b-6dfedfce801d/operations/d0944ef1-02ae-4577-b9ac-c9c4c23e4273/result/6?rowFormat=JSON \"HTTP/1.1 200 OK\"\n",
      "2024-12-31 11:05:05,186 - resinkit.session_utils - DEBUG - Fetch result: {'isQueryResult': True, 'jobID': 'c6a29e635485424fcd450460147547fa', 'nextResultUri': '/v2/sessions/e3c1b117-ce21-4bcd-9a2b-6dfedfce801d/operations/d0944ef1-02ae-4577-b9ac-c9c4c23e4273/result/7?rowFormat=JSON', 'resultKind': 'SUCCESS_WITH_CONTENT', 'resultType': 'PAYLOAD', 'results': {'columns': [{'name': 'user_id', 'logicalType': {'type': 'BIGINT', 'nullable': False}, 'comment': None}, {'name': 'item_id', 'logicalType': {'type': 'BIGINT', 'nullable': True}, 'comment': None}, {'name': 'behavior', 'logicalType': {'type': 'VARCHAR', 'nullable': True, 'length': 2147483647}, 'comment': None}, {'name': 'dt', 'logicalType': {'type': 'VARCHAR', 'nullable': False, 'length': 2147483647}, 'comment': None}], 'columnInfos': [], 'data': [{'kind': 'INSERT', 'fields': [1002, 5001, 'cart', '2024-01-01']}, {'kind': 'INSERT', 'fields': [1001, 5002, 'like', '2024-01-01']}, {'kind': 'INSERT', 'fields': [1003, 5003, 'purchase', '2024-01-01']}, {'kind': 'INSERT', 'fields': [1001, 5004, 'view', '2024-01-02']}, {'kind': 'INSERT', 'fields': [1003, 5001, 'cart', '2024-01-02']}, {'kind': 'INSERT', 'fields': [1004, 5005, 'view', '2024-01-02']}, {'kind': 'INSERT', 'fields': [1001, 5003, 'purchase', '2024-01-03']}, {'kind': 'INSERT', 'fields': [1003, 5002, 'like', '2024-01-03']}, {'kind': 'INSERT', 'fields': [1002, 5002, 'like', '2024-01-02']}, {'kind': 'INSERT', 'fields': [1004, 5001, 'cart', '2024-01-03']}, {'kind': 'INSERT', 'fields': [1005, 5005, 'purchase', '2024-01-03']}, {'kind': 'INSERT', 'fields': [1002, 5004, 'view', '2024-01-03']}, {'kind': 'INSERT', 'fields': [1001, 5001, 'view', '2024-01-04']}], 'fieldGetters': [], 'rowFormat': 'JSON'}}\n",
      "2024-12-31 11:05:05,297 - httpx - INFO - HTTP Request: GET http://localhost:8083/v2/sessions/e3c1b117-ce21-4bcd-9a2b-6dfedfce801d/operations/d0944ef1-02ae-4577-b9ac-c9c4c23e4273/result/7?rowFormat=JSON \"HTTP/1.1 200 OK\"\n",
      "2024-12-31 11:05:05,300 - resinkit.session_utils - DEBUG - Fetch result: {'isQueryResult': True, 'jobID': 'c6a29e635485424fcd450460147547fa', 'resultKind': 'SUCCESS_WITH_CONTENT', 'resultType': 'EOS', 'results': {'columns': [{'name': 'user_id', 'logicalType': {'type': 'BIGINT', 'nullable': False}, 'comment': None}, {'name': 'item_id', 'logicalType': {'type': 'BIGINT', 'nullable': True}, 'comment': None}, {'name': 'behavior', 'logicalType': {'type': 'VARCHAR', 'nullable': True, 'length': 2147483647}, 'comment': None}, {'name': 'dt', 'logicalType': {'type': 'VARCHAR', 'nullable': False, 'length': 2147483647}, 'comment': None}], 'columnInfos': [], 'data': [], 'fieldGetters': [], 'rowFormat': 'JSON'}}\n",
      "2024-12-31 11:05:05,313 - httpx - INFO - HTTP Request: DELETE http://localhost:8083/sessions/e3c1b117-ce21-4bcd-9a2b-6dfedfce801d/operations/d0944ef1-02ae-4577-b9ac-c9c4c23e4273/close \"HTTP/1.1 200 OK\"\n",
      "2024-12-31 11:05:05,318 - httpx - INFO - HTTP Request: DELETE http://localhost:8083/sessions/e3c1b117-ce21-4bcd-9a2b-6dfedfce801d \"HTTP/1.1 200 OK\"\n"
     ]
    },
    {
     "data": {
      "text/plain": [
       "[  result\n",
       " 0     OK,\n",
       "   result\n",
       " 0     OK,\n",
       "   result\n",
       " 0     OK,\n",
       "   result\n",
       " 0     OK,\n",
       "   result\n",
       " 0     OK,\n",
       "                              job id\n",
       " 0  1f171a4d544905597e5a6dca7232f843,\n",
       "   result\n",
       " 0     OK,\n",
       "     user_id  item_id  behavior          dt\n",
       " 0      1002     5001      cart  2024-01-01\n",
       " 1      1001     5002      like  2024-01-01\n",
       " 2      1003     5003  purchase  2024-01-01\n",
       " 3      1001     5004      view  2024-01-02\n",
       " 4      1003     5001      cart  2024-01-02\n",
       " 5      1004     5005      view  2024-01-02\n",
       " 6      1001     5003  purchase  2024-01-03\n",
       " 7      1003     5002      like  2024-01-03\n",
       " 8      1002     5002      like  2024-01-02\n",
       " 9      1004     5001      cart  2024-01-03\n",
       " 10     1005     5005  purchase  2024-01-03\n",
       " 11     1002     5004      view  2024-01-03\n",
       " 12     1001     5001      view  2024-01-04]"
      ]
     },
     "execution_count": 24,
     "metadata": {},
     "output_type": "execute_result"
    }
   ],
   "execution_count": 24
  },
  {
   "metadata": {
    "ExecuteTime": {
     "end_time": "2024-12-31T19:01:40.741312Z",
     "start_time": "2024-12-31T19:01:40.728426Z"
    }
   },
   "cell_type": "code",
   "source": "[x.shape for x in dfs]",
   "id": "2e8b4a87441a9a0",
   "outputs": [
    {
     "data": {
      "text/plain": [
       "[(1, 1), (1, 1), (1, 1), (1, 1), (1, 1), (1, 1), (1, 1), (13, 4)]"
      ]
     },
     "execution_count": 21,
     "metadata": {},
     "output_type": "execute_result"
    }
   ],
   "execution_count": 21
  },
  {
   "metadata": {
    "ExecuteTime": {
     "end_time": "2024-12-31T19:06:05.760234Z",
     "start_time": "2024-12-31T19:06:05.748140Z"
    }
   },
   "cell_type": "code",
   "source": "dfs[-1].head()",
   "id": "b2a1fddac06787fd",
   "outputs": [
    {
     "data": {
      "text/plain": [
       "   user_id  item_id  behavior          dt\n",
       "0     1002     5001      cart  2024-01-01\n",
       "1     1001     5002      like  2024-01-01\n",
       "2     1003     5003  purchase  2024-01-01\n",
       "3     1001     5004      view  2024-01-02\n",
       "4     1003     5001      cart  2024-01-02"
      ],
      "text/html": [
       "<div>\n",
       "<style scoped>\n",
       "    .dataframe tbody tr th:only-of-type {\n",
       "        vertical-align: middle;\n",
       "    }\n",
       "\n",
       "    .dataframe tbody tr th {\n",
       "        vertical-align: top;\n",
       "    }\n",
       "\n",
       "    .dataframe thead th {\n",
       "        text-align: right;\n",
       "    }\n",
       "</style>\n",
       "<table border=\"1\" class=\"dataframe\">\n",
       "  <thead>\n",
       "    <tr style=\"text-align: right;\">\n",
       "      <th></th>\n",
       "      <th>user_id</th>\n",
       "      <th>item_id</th>\n",
       "      <th>behavior</th>\n",
       "      <th>dt</th>\n",
       "    </tr>\n",
       "  </thead>\n",
       "  <tbody>\n",
       "    <tr>\n",
       "      <th>0</th>\n",
       "      <td>1002</td>\n",
       "      <td>5001</td>\n",
       "      <td>cart</td>\n",
       "      <td>2024-01-01</td>\n",
       "    </tr>\n",
       "    <tr>\n",
       "      <th>1</th>\n",
       "      <td>1001</td>\n",
       "      <td>5002</td>\n",
       "      <td>like</td>\n",
       "      <td>2024-01-01</td>\n",
       "    </tr>\n",
       "    <tr>\n",
       "      <th>2</th>\n",
       "      <td>1003</td>\n",
       "      <td>5003</td>\n",
       "      <td>purchase</td>\n",
       "      <td>2024-01-01</td>\n",
       "    </tr>\n",
       "    <tr>\n",
       "      <th>3</th>\n",
       "      <td>1001</td>\n",
       "      <td>5004</td>\n",
       "      <td>view</td>\n",
       "      <td>2024-01-02</td>\n",
       "    </tr>\n",
       "    <tr>\n",
       "      <th>4</th>\n",
       "      <td>1003</td>\n",
       "      <td>5001</td>\n",
       "      <td>cart</td>\n",
       "      <td>2024-01-02</td>\n",
       "    </tr>\n",
       "  </tbody>\n",
       "</table>\n",
       "</div>"
      ]
     },
     "execution_count": 25,
     "metadata": {},
     "output_type": "execute_result"
    }
   ],
   "execution_count": 25
  },
  {
   "metadata": {
    "ExecuteTime": {
     "end_time": "2024-12-31T19:06:36.650651Z",
     "start_time": "2024-12-31T19:06:36.644361Z"
    }
   },
   "cell_type": "code",
   "source": "",
   "id": "5d9416f4db8addff",
   "outputs": [],
   "execution_count": null
  },
  {
   "metadata": {
    "ExecuteTime": {
     "end_time": "2024-12-31T19:06:10.765420Z",
     "start_time": "2024-12-31T19:06:10.763636Z"
    }
   },
   "cell_type": "code",
   "source": "",
   "id": "10ba2da6dbee7fa2",
   "outputs": [],
   "execution_count": null
  },
  {
   "metadata": {},
   "cell_type": "code",
   "outputs": [],
   "execution_count": null,
   "source": "",
   "id": "2d6d1f1ec41d9c8d"
  }
 ],
 "metadata": {
  "kernelspec": {
   "display_name": "Python 3",
   "language": "python",
   "name": "python3"
  },
  "language_info": {
   "codemirror_mode": {
    "name": "ipython",
    "version": 2
   },
   "file_extension": ".py",
   "mimetype": "text/x-python",
   "name": "python",
   "nbconvert_exporter": "python",
   "pygments_lexer": "ipython2",
   "version": "2.7.6"
  }
 },
 "nbformat": 4,
 "nbformat_minor": 5
}
