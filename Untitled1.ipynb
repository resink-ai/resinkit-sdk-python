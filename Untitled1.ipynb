{
 "cells": [
  {
   "cell_type": "code",
   "execution_count": 5,
   "id": "b395a711-a8b6-4e86-812c-b1648be57385",
   "metadata": {},
   "outputs": [
    {
     "name": "stdout",
     "output_type": "stream",
     "text": [
      "\u001b[2K\u001b[2mResolved \u001b[1m96 packages\u001b[0m \u001b[2min 575ms\u001b[0m\u001b[0m                                        \u001b[0m\n",
      "\u001b[2K\u001b[2mPrepared \u001b[1m17 packages\u001b[0m \u001b[2min 96ms\u001b[0m\u001b[0m                                             \n",
      "\u001b[2K\u001b[2mInstalled \u001b[1m17 packages\u001b[0m \u001b[2min 9ms\u001b[0m\u001b[0mgs-openai==0.3.1                \u001b[0m\n",
      " \u001b[32m+\u001b[39m \u001b[1mllama-cloud\u001b[0m\u001b[2m==0.1.32\u001b[0m\n",
      " \u001b[32m+\u001b[39m \u001b[1mllama-cloud-services\u001b[0m\u001b[2m==0.6.43\u001b[0m\n",
      " \u001b[32m+\u001b[39m \u001b[1mllama-index\u001b[0m\u001b[2m==0.12.48\u001b[0m\n",
      " \u001b[32m+\u001b[39m \u001b[1mllama-index-agent-openai\u001b[0m\u001b[2m==0.4.12\u001b[0m\n",
      " \u001b[32m+\u001b[39m \u001b[1mllama-index-cli\u001b[0m\u001b[2m==0.4.4\u001b[0m\n",
      " \u001b[32m+\u001b[39m \u001b[1mllama-index-embeddings-openai\u001b[0m\u001b[2m==0.3.1\u001b[0m\n",
      " \u001b[32m+\u001b[39m \u001b[1mllama-index-indices-managed-llama-cloud\u001b[0m\u001b[2m==0.7.10\u001b[0m\n",
      " \u001b[32m+\u001b[39m \u001b[1mllama-index-multi-modal-llms-openai\u001b[0m\u001b[2m==0.5.3\u001b[0m\n",
      " \u001b[32m+\u001b[39m \u001b[1mllama-index-program-openai\u001b[0m\u001b[2m==0.3.2\u001b[0m\n",
      " \u001b[32m+\u001b[39m \u001b[1mllama-index-question-gen-openai\u001b[0m\u001b[2m==0.3.1\u001b[0m\n",
      " \u001b[32m+\u001b[39m \u001b[1mllama-index-readers-file\u001b[0m\u001b[2m==0.4.11\u001b[0m\n",
      " \u001b[32m+\u001b[39m \u001b[1mllama-index-readers-llama-parse\u001b[0m\u001b[2m==0.4.0\u001b[0m\n",
      " \u001b[32m+\u001b[39m \u001b[1mllama-parse\u001b[0m\u001b[2m==0.6.43\u001b[0m\n",
      " \u001b[32m+\u001b[39m \u001b[1mpypdf\u001b[0m\u001b[2m==5.7.0\u001b[0m\n",
      " \u001b[32m+\u001b[39m \u001b[1mstriprtf\u001b[0m\u001b[2m==0.0.26\u001b[0m\n",
      " \u001b[32m+\u001b[39m \u001b[1mtoolbox-core\u001b[0m\u001b[2m==0.3.0\u001b[0m\n",
      " \u001b[32m+\u001b[39m \u001b[1mtoolbox-llamaindex\u001b[0m\u001b[2m==0.3.0\u001b[0m\n"
     ]
    }
   ],
   "source": [
    "! uv pip install llama-index-llms-google-genai toolbox-llamaindex"
   ]
  },
  {
   "cell_type": "code",
   "execution_count": 9,
   "id": "98135e8b-7cf6-49e4-a035-2cd7e99b844d",
   "metadata": {},
   "outputs": [
    {
     "ename": "RuntimeError",
     "evalue": "API request failed with status 403 (Forbidden). Server response: ",
     "output_type": "error",
     "traceback": [
      "\u001b[31m---------------------------------------------------------------------------\u001b[39m",
      "\u001b[31mRuntimeError\u001b[39m                              Traceback (most recent call last)",
      "\u001b[36mCell\u001b[39m\u001b[36m \u001b[39m\u001b[32mIn[9]\u001b[39m\u001b[32m, line 4\u001b[39m\n\u001b[32m      2\u001b[39m \u001b[38;5;28;01mfrom\u001b[39;00m\u001b[38;5;250m \u001b[39m\u001b[34;01mtoolbox_llamaindex\u001b[39;00m\u001b[38;5;250m \u001b[39m\u001b[38;5;28;01mimport\u001b[39;00m ToolboxClient\n\u001b[32m      3\u001b[39m client = ToolboxClient(\u001b[33m\"\u001b[39m\u001b[33mhttp://127.0.0.1:5000\u001b[39m\u001b[33m\"\u001b[39m)\n\u001b[32m----> \u001b[39m\u001b[32m4\u001b[39m tools = \u001b[38;5;28;01mawait\u001b[39;00m client.aload_toolset()\n",
      "\u001b[36mFile \u001b[39m\u001b[32m~/Workspace/resink.ai/resinkit/api_sdk/resinkit-sdk-python/.venv/lib/python3.12/site-packages/toolbox_llamaindex/client.py:158\u001b[39m, in \u001b[36mToolboxClient.aload_toolset\u001b[39m\u001b[34m(self, toolset_name, auth_token_getters, auth_tokens, auth_headers, bound_params, strict)\u001b[39m\n\u001b[32m    152\u001b[39m         warn(\n\u001b[32m    153\u001b[39m             \u001b[33m\"\u001b[39m\u001b[33mArgument `auth_headers` is deprecated. Use `auth_token_getters` instead.\u001b[39m\u001b[33m\"\u001b[39m,\n\u001b[32m    154\u001b[39m             \u001b[38;5;167;01mDeprecationWarning\u001b[39;00m,\n\u001b[32m    155\u001b[39m         )\n\u001b[32m    156\u001b[39m         auth_token_getters = auth_headers\n\u001b[32m--> \u001b[39m\u001b[32m158\u001b[39m core_tools = \u001b[38;5;28;01mawait\u001b[39;00m to_thread(\n\u001b[32m    159\u001b[39m     \u001b[38;5;28mself\u001b[39m.__core_client.load_toolset,\n\u001b[32m    160\u001b[39m     name=toolset_name,\n\u001b[32m    161\u001b[39m     auth_token_getters=auth_token_getters,\n\u001b[32m    162\u001b[39m     bound_params=bound_params,\n\u001b[32m    163\u001b[39m     strict=strict,\n\u001b[32m    164\u001b[39m )\n\u001b[32m    166\u001b[39m tools = []\n\u001b[32m    167\u001b[39m \u001b[38;5;28;01mfor\u001b[39;00m core_tool \u001b[38;5;129;01min\u001b[39;00m core_tools:\n",
      "\u001b[36mFile \u001b[39m\u001b[32m~/.local/share/uv/python/cpython-3.12.10-macos-aarch64-none/lib/python3.12/asyncio/threads.py:25\u001b[39m, in \u001b[36mto_thread\u001b[39m\u001b[34m(func, *args, **kwargs)\u001b[39m\n\u001b[32m     23\u001b[39m ctx = contextvars.copy_context()\n\u001b[32m     24\u001b[39m func_call = functools.partial(ctx.run, func, *args, **kwargs)\n\u001b[32m---> \u001b[39m\u001b[32m25\u001b[39m \u001b[38;5;28;01mreturn\u001b[39;00m \u001b[38;5;28;01mawait\u001b[39;00m loop.run_in_executor(\u001b[38;5;28;01mNone\u001b[39;00m, func_call)\n",
      "\u001b[36mFile \u001b[39m\u001b[32m~/.local/share/uv/python/cpython-3.12.10-macos-aarch64-none/lib/python3.12/concurrent/futures/thread.py:59\u001b[39m, in \u001b[36m_WorkItem.run\u001b[39m\u001b[34m(self)\u001b[39m\n\u001b[32m     56\u001b[39m     \u001b[38;5;28;01mreturn\u001b[39;00m\n\u001b[32m     58\u001b[39m \u001b[38;5;28;01mtry\u001b[39;00m:\n\u001b[32m---> \u001b[39m\u001b[32m59\u001b[39m     result = \u001b[38;5;28;43mself\u001b[39;49m\u001b[43m.\u001b[49m\u001b[43mfn\u001b[49m\u001b[43m(\u001b[49m\u001b[43m*\u001b[49m\u001b[38;5;28;43mself\u001b[39;49m\u001b[43m.\u001b[49m\u001b[43margs\u001b[49m\u001b[43m,\u001b[49m\u001b[43m \u001b[49m\u001b[43m*\u001b[49m\u001b[43m*\u001b[49m\u001b[38;5;28;43mself\u001b[39;49m\u001b[43m.\u001b[49m\u001b[43mkwargs\u001b[49m\u001b[43m)\u001b[49m\n\u001b[32m     60\u001b[39m \u001b[38;5;28;01mexcept\u001b[39;00m \u001b[38;5;167;01mBaseException\u001b[39;00m \u001b[38;5;28;01mas\u001b[39;00m exc:\n\u001b[32m     61\u001b[39m     \u001b[38;5;28mself\u001b[39m.future.set_exception(exc)\n",
      "\u001b[36mFile \u001b[39m\u001b[32m~/Workspace/resink.ai/resinkit/api_sdk/resinkit-sdk-python/.venv/lib/python3.12/site-packages/toolbox_core/sync_client.py:152\u001b[39m, in \u001b[36mToolboxSyncClient.load_toolset\u001b[39m\u001b[34m(self, name, auth_token_getters, bound_params, strict)\u001b[39m\n\u001b[32m    149\u001b[39m \u001b[38;5;28;01mif\u001b[39;00m \u001b[38;5;129;01mnot\u001b[39;00m \u001b[38;5;28mself\u001b[39m.__loop \u001b[38;5;129;01mor\u001b[39;00m \u001b[38;5;129;01mnot\u001b[39;00m \u001b[38;5;28mself\u001b[39m.__thread:\n\u001b[32m    150\u001b[39m     \u001b[38;5;28;01mraise\u001b[39;00m \u001b[38;5;167;01mValueError\u001b[39;00m(\u001b[33m\"\u001b[39m\u001b[33mBackground loop or thread cannot be None.\u001b[39m\u001b[33m\"\u001b[39m)\n\u001b[32m--> \u001b[39m\u001b[32m152\u001b[39m async_tools = \u001b[43mrun_coroutine_threadsafe\u001b[49m\u001b[43m(\u001b[49m\u001b[43mcoro\u001b[49m\u001b[43m,\u001b[49m\u001b[43m \u001b[49m\u001b[38;5;28;43mself\u001b[39;49m\u001b[43m.\u001b[49m\u001b[43m__loop\u001b[49m\u001b[43m)\u001b[49m\u001b[43m.\u001b[49m\u001b[43mresult\u001b[49m\u001b[43m(\u001b[49m\u001b[43m)\u001b[49m\n\u001b[32m    153\u001b[39m \u001b[38;5;28;01mreturn\u001b[39;00m [\n\u001b[32m    154\u001b[39m     ToolboxSyncTool(async_tool, \u001b[38;5;28mself\u001b[39m.__loop, \u001b[38;5;28mself\u001b[39m.__thread)\n\u001b[32m    155\u001b[39m     \u001b[38;5;28;01mfor\u001b[39;00m async_tool \u001b[38;5;129;01min\u001b[39;00m async_tools\n\u001b[32m    156\u001b[39m ]\n",
      "\u001b[36mFile \u001b[39m\u001b[32m~/.local/share/uv/python/cpython-3.12.10-macos-aarch64-none/lib/python3.12/concurrent/futures/_base.py:456\u001b[39m, in \u001b[36mFuture.result\u001b[39m\u001b[34m(self, timeout)\u001b[39m\n\u001b[32m    454\u001b[39m     \u001b[38;5;28;01mraise\u001b[39;00m CancelledError()\n\u001b[32m    455\u001b[39m \u001b[38;5;28;01melif\u001b[39;00m \u001b[38;5;28mself\u001b[39m._state == FINISHED:\n\u001b[32m--> \u001b[39m\u001b[32m456\u001b[39m     \u001b[38;5;28;01mreturn\u001b[39;00m \u001b[38;5;28;43mself\u001b[39;49m\u001b[43m.\u001b[49m\u001b[43m__get_result\u001b[49m\u001b[43m(\u001b[49m\u001b[43m)\u001b[49m\n\u001b[32m    457\u001b[39m \u001b[38;5;28;01melse\u001b[39;00m:\n\u001b[32m    458\u001b[39m     \u001b[38;5;28;01mraise\u001b[39;00m \u001b[38;5;167;01mTimeoutError\u001b[39;00m()\n",
      "\u001b[36mFile \u001b[39m\u001b[32m~/.local/share/uv/python/cpython-3.12.10-macos-aarch64-none/lib/python3.12/concurrent/futures/_base.py:401\u001b[39m, in \u001b[36mFuture.__get_result\u001b[39m\u001b[34m(self)\u001b[39m\n\u001b[32m    399\u001b[39m \u001b[38;5;28;01mif\u001b[39;00m \u001b[38;5;28mself\u001b[39m._exception:\n\u001b[32m    400\u001b[39m     \u001b[38;5;28;01mtry\u001b[39;00m:\n\u001b[32m--> \u001b[39m\u001b[32m401\u001b[39m         \u001b[38;5;28;01mraise\u001b[39;00m \u001b[38;5;28mself\u001b[39m._exception\n\u001b[32m    402\u001b[39m     \u001b[38;5;28;01mfinally\u001b[39;00m:\n\u001b[32m    403\u001b[39m         \u001b[38;5;66;03m# Break a reference cycle with the exception in self._exception\u001b[39;00m\n\u001b[32m    404\u001b[39m         \u001b[38;5;28mself\u001b[39m = \u001b[38;5;28;01mNone\u001b[39;00m\n",
      "\u001b[36mFile \u001b[39m\u001b[32m~/Workspace/resink.ai/resinkit/api_sdk/resinkit-sdk-python/.venv/lib/python3.12/site-packages/toolbox_core/client.py:282\u001b[39m, in \u001b[36mToolboxClient.load_toolset\u001b[39m\u001b[34m(self, name, auth_token_getters, bound_params, strict)\u001b[39m\n\u001b[32m    280\u001b[39m     \u001b[38;5;28;01mif\u001b[39;00m \u001b[38;5;129;01mnot\u001b[39;00m response.ok:\n\u001b[32m    281\u001b[39m         error_text = \u001b[38;5;28;01mawait\u001b[39;00m response.text()\n\u001b[32m--> \u001b[39m\u001b[32m282\u001b[39m         \u001b[38;5;28;01mraise\u001b[39;00m \u001b[38;5;167;01mRuntimeError\u001b[39;00m(\n\u001b[32m    283\u001b[39m             \u001b[33mf\u001b[39m\u001b[33m\"\u001b[39m\u001b[33mAPI request failed with status \u001b[39m\u001b[38;5;132;01m{\u001b[39;00mresponse.status\u001b[38;5;132;01m}\u001b[39;00m\u001b[33m (\u001b[39m\u001b[38;5;132;01m{\u001b[39;00mresponse.reason\u001b[38;5;132;01m}\u001b[39;00m\u001b[33m). Server response: \u001b[39m\u001b[38;5;132;01m{\u001b[39;00merror_text\u001b[38;5;132;01m}\u001b[39;00m\u001b[33m\"\u001b[39m\n\u001b[32m    284\u001b[39m         )\n\u001b[32m    285\u001b[39m     json = \u001b[38;5;28;01mawait\u001b[39;00m response.json()\n\u001b[32m    286\u001b[39m manifest: ManifestSchema = ManifestSchema(**json)\n",
      "\u001b[31mRuntimeError\u001b[39m: API request failed with status 403 (Forbidden). Server response: "
     ]
    }
   ],
   "source": [
    "import asyncio\n",
    "from toolbox_llamaindex import ToolboxClient\n",
    "client = ToolboxClient(\"http://127.0.0.1:5000\")\n",
    "tools = await client.aload_toolset()"
   ]
  },
  {
   "cell_type": "code",
   "execution_count": null,
   "id": "9521ee50-dbe3-40fb-90d6-d639828b5dea",
   "metadata": {},
   "outputs": [],
   "source": []
  }
 ],
 "metadata": {
  "kernelspec": {
   "display_name": "Python 3 (ipykernel)",
   "language": "python",
   "name": "python3"
  },
  "language_info": {
   "codemirror_mode": {
    "name": "ipython",
    "version": 3
   },
   "file_extension": ".py",
   "mimetype": "text/x-python",
   "name": "python",
   "nbconvert_exporter": "python",
   "pygments_lexer": "ipython3",
   "version": "3.12.10"
  }
 },
 "nbformat": 4,
 "nbformat_minor": 5
}
