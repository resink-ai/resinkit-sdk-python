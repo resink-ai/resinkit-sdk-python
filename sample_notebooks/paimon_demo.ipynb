{
 "cells": [
  {
   "cell_type": "code",
   "execution_count": 5,
   "id": "initial_id",
   "metadata": {
    "ExecuteTime": {
     "end_time": "2024-12-31T19:05:05.329512Z",
     "start_time": "2024-12-31T19:05:02.196489Z"
    },
    "collapsed": true
   },
   "outputs": [
    {
     "name": "stderr",
     "output_type": "stream",
     "text": [
      "2025-04-20 08:23:39,123 - httpx - INFO - HTTP Request: POST http://localhost:8083/sessions \"HTTP/1.1 200 OK\"\n",
      "2025-04-20 08:23:39,127 - httpx - INFO - HTTP Request: POST http://localhost:8083/sessions/7a242b06-276f-4044-8595-d9470ecbca2f/statements \"HTTP/1.1 200 OK\"\n",
      "2025-04-20 08:23:39,132 - httpx - INFO - HTTP Request: GET http://localhost:8083/sessions/7a242b06-276f-4044-8595-d9470ecbca2f/operations/8396b2e5-5389-47a1-98aa-2db6aa798454/result/0?rowFormat=JSON \"HTTP/1.1 200 OK\"\n",
      "2025-04-20 08:23:39,133 - resinkit.session_utils - DEBUG - Fetch result: {'nextResultUri': '/v2/sessions/7a242b06-276f-4044-8595-d9470ecbca2f/operations/8396b2e5-5389-47a1-98aa-2db6aa798454/result/0?rowFormat=JSON', 'resultType': 'NOT_READY'}\n",
      "2025-04-20 08:23:39,242 - httpx - INFO - HTTP Request: GET http://localhost:8083/v2/sessions/7a242b06-276f-4044-8595-d9470ecbca2f/operations/8396b2e5-5389-47a1-98aa-2db6aa798454/result/0?rowFormat=JSON \"HTTP/1.1 200 OK\"\n",
      "2025-04-20 08:23:39,243 - resinkit.session_utils - DEBUG - Fetch result: {'isQueryResult': False, 'nextResultUri': '/v2/sessions/7a242b06-276f-4044-8595-d9470ecbca2f/operations/8396b2e5-5389-47a1-98aa-2db6aa798454/result/1?rowFormat=JSON', 'resultKind': 'SUCCESS', 'resultType': 'PAYLOAD', 'results': {'columns': [{'name': 'result', 'logicalType': {'type': 'VARCHAR', 'nullable': True, 'length': 2147483647}, 'comment': None}], 'columnInfos': [], 'data': [{'kind': 'INSERT', 'fields': ['OK']}], 'fieldGetters': [], 'rowFormat': 'JSON'}}\n"
     ]
    },
    {
     "name": "stdout",
     "output_type": "stream",
     "text": [
      "Executing: -- Create Paimon catalog\n",
      "\n",
      "DROP CATALOG IF EXISTS my_catalog\n"
     ]
    },
    {
     "name": "stderr",
     "output_type": "stream",
     "text": [
      "2025-04-20 08:23:39,348 - httpx - INFO - HTTP Request: GET http://localhost:8083/v2/sessions/7a242b06-276f-4044-8595-d9470ecbca2f/operations/8396b2e5-5389-47a1-98aa-2db6aa798454/result/1?rowFormat=JSON \"HTTP/1.1 200 OK\"\n",
      "2025-04-20 08:23:39,349 - resinkit.session_utils - DEBUG - Fetch result: {'isQueryResult': False, 'resultKind': 'SUCCESS', 'resultType': 'EOS', 'results': {'columns': [{'name': 'result', 'logicalType': {'type': 'VARCHAR', 'nullable': True, 'length': 2147483647}, 'comment': None}], 'columnInfos': [], 'data': [], 'fieldGetters': [], 'rowFormat': 'JSON'}}\n",
      "2025-04-20 08:23:39,356 - httpx - INFO - HTTP Request: DELETE http://localhost:8083/sessions/7a242b06-276f-4044-8595-d9470ecbca2f/operations/8396b2e5-5389-47a1-98aa-2db6aa798454/close \"HTTP/1.1 200 OK\"\n",
      "2025-04-20 08:23:39,358 - httpx - INFO - HTTP Request: POST http://localhost:8083/sessions/7a242b06-276f-4044-8595-d9470ecbca2f/statements \"HTTP/1.1 200 OK\"\n",
      "2025-04-20 08:23:39,362 - httpx - INFO - HTTP Request: GET http://localhost:8083/sessions/7a242b06-276f-4044-8595-d9470ecbca2f/operations/23074588-17a2-411d-870b-965e3174aa62/result/0?rowFormat=JSON \"HTTP/1.1 200 OK\"\n",
      "2025-04-20 08:23:39,363 - resinkit.session_utils - DEBUG - Fetch result: {'nextResultUri': '/v2/sessions/7a242b06-276f-4044-8595-d9470ecbca2f/operations/23074588-17a2-411d-870b-965e3174aa62/result/0?rowFormat=JSON', 'resultType': 'NOT_READY'}\n",
      "2025-04-20 08:23:39,469 - httpx - INFO - HTTP Request: GET http://localhost:8083/v2/sessions/7a242b06-276f-4044-8595-d9470ecbca2f/operations/23074588-17a2-411d-870b-965e3174aa62/result/0?rowFormat=JSON \"HTTP/1.1 200 OK\"\n",
      "2025-04-20 08:23:39,470 - resinkit.session_utils - DEBUG - Fetch result: {'isQueryResult': False, 'nextResultUri': '/v2/sessions/7a242b06-276f-4044-8595-d9470ecbca2f/operations/23074588-17a2-411d-870b-965e3174aa62/result/1?rowFormat=JSON', 'resultKind': 'SUCCESS', 'resultType': 'PAYLOAD', 'results': {'columns': [{'name': 'result', 'logicalType': {'type': 'VARCHAR', 'nullable': True, 'length': 2147483647}, 'comment': None}], 'columnInfos': [], 'data': [{'kind': 'INSERT', 'fields': ['OK']}], 'fieldGetters': [], 'rowFormat': 'JSON'}}\n"
     ]
    },
    {
     "name": "stdout",
     "output_type": "stream",
     "text": [
      "Executing: CREATE CATALOG my_catalog WITH (\n",
      "    'type'='paimon',\n",
      "    'warehouse'='file:/tmp/paimon_1745162619014'\n",
      ")\n"
     ]
    },
    {
     "name": "stderr",
     "output_type": "stream",
     "text": [
      "2025-04-20 08:23:39,575 - httpx - INFO - HTTP Request: GET http://localhost:8083/v2/sessions/7a242b06-276f-4044-8595-d9470ecbca2f/operations/23074588-17a2-411d-870b-965e3174aa62/result/1?rowFormat=JSON \"HTTP/1.1 200 OK\"\n",
      "2025-04-20 08:23:39,576 - resinkit.session_utils - DEBUG - Fetch result: {'isQueryResult': False, 'resultKind': 'SUCCESS', 'resultType': 'EOS', 'results': {'columns': [{'name': 'result', 'logicalType': {'type': 'VARCHAR', 'nullable': True, 'length': 2147483647}, 'comment': None}], 'columnInfos': [], 'data': [], 'fieldGetters': [], 'rowFormat': 'JSON'}}\n",
      "2025-04-20 08:23:39,580 - httpx - INFO - HTTP Request: DELETE http://localhost:8083/sessions/7a242b06-276f-4044-8595-d9470ecbca2f/operations/23074588-17a2-411d-870b-965e3174aa62/close \"HTTP/1.1 200 OK\"\n",
      "2025-04-20 08:23:39,583 - httpx - INFO - HTTP Request: POST http://localhost:8083/sessions/7a242b06-276f-4044-8595-d9470ecbca2f/statements \"HTTP/1.1 200 OK\"\n",
      "2025-04-20 08:23:39,585 - httpx - INFO - HTTP Request: GET http://localhost:8083/sessions/7a242b06-276f-4044-8595-d9470ecbca2f/operations/e8cd9315-b1ba-4e04-8238-3f5123424b88/result/0?rowFormat=JSON \"HTTP/1.1 200 OK\"\n",
      "2025-04-20 08:23:39,586 - resinkit.session_utils - DEBUG - Fetch result: {'nextResultUri': '/v2/sessions/7a242b06-276f-4044-8595-d9470ecbca2f/operations/e8cd9315-b1ba-4e04-8238-3f5123424b88/result/0?rowFormat=JSON', 'resultType': 'NOT_READY'}\n",
      "2025-04-20 08:23:39,696 - httpx - INFO - HTTP Request: GET http://localhost:8083/v2/sessions/7a242b06-276f-4044-8595-d9470ecbca2f/operations/e8cd9315-b1ba-4e04-8238-3f5123424b88/result/0?rowFormat=JSON \"HTTP/1.1 200 OK\"\n",
      "2025-04-20 08:23:39,697 - resinkit.session_utils - DEBUG - Fetch result: {'isQueryResult': False, 'nextResultUri': '/v2/sessions/7a242b06-276f-4044-8595-d9470ecbca2f/operations/e8cd9315-b1ba-4e04-8238-3f5123424b88/result/1?rowFormat=JSON', 'resultKind': 'SUCCESS', 'resultType': 'PAYLOAD', 'results': {'columns': [{'name': 'result', 'logicalType': {'type': 'VARCHAR', 'nullable': True, 'length': 2147483647}, 'comment': None}], 'columnInfos': [], 'data': [{'kind': 'INSERT', 'fields': ['OK']}], 'fieldGetters': [], 'rowFormat': 'JSON'}}\n"
     ]
    },
    {
     "name": "stdout",
     "output_type": "stream",
     "text": [
      "Executing: USE CATALOG my_catalog\n"
     ]
    },
    {
     "name": "stderr",
     "output_type": "stream",
     "text": [
      "2025-04-20 08:23:39,809 - httpx - INFO - HTTP Request: GET http://localhost:8083/v2/sessions/7a242b06-276f-4044-8595-d9470ecbca2f/operations/e8cd9315-b1ba-4e04-8238-3f5123424b88/result/1?rowFormat=JSON \"HTTP/1.1 200 OK\"\n",
      "2025-04-20 08:23:39,810 - resinkit.session_utils - DEBUG - Fetch result: {'isQueryResult': False, 'resultKind': 'SUCCESS', 'resultType': 'EOS', 'results': {'columns': [{'name': 'result', 'logicalType': {'type': 'VARCHAR', 'nullable': True, 'length': 2147483647}, 'comment': None}], 'columnInfos': [], 'data': [], 'fieldGetters': [], 'rowFormat': 'JSON'}}\n",
      "2025-04-20 08:23:39,813 - httpx - INFO - HTTP Request: DELETE http://localhost:8083/sessions/7a242b06-276f-4044-8595-d9470ecbca2f/operations/e8cd9315-b1ba-4e04-8238-3f5123424b88/close \"HTTP/1.1 200 OK\"\n",
      "2025-04-20 08:23:39,848 - httpx - INFO - HTTP Request: POST http://localhost:8083/sessions/7a242b06-276f-4044-8595-d9470ecbca2f/statements \"HTTP/1.1 200 OK\"\n",
      "2025-04-20 08:23:39,853 - httpx - INFO - HTTP Request: GET http://localhost:8083/sessions/7a242b06-276f-4044-8595-d9470ecbca2f/operations/4fa7cd76-e2a9-4a75-ae2b-be5640cd0cb2/result/0?rowFormat=JSON \"HTTP/1.1 200 OK\"\n",
      "2025-04-20 08:23:39,853 - resinkit.session_utils - DEBUG - Fetch result: {'nextResultUri': '/v2/sessions/7a242b06-276f-4044-8595-d9470ecbca2f/operations/4fa7cd76-e2a9-4a75-ae2b-be5640cd0cb2/result/0?rowFormat=JSON', 'resultType': 'NOT_READY'}\n",
      "2025-04-20 08:23:39,963 - httpx - INFO - HTTP Request: GET http://localhost:8083/v2/sessions/7a242b06-276f-4044-8595-d9470ecbca2f/operations/4fa7cd76-e2a9-4a75-ae2b-be5640cd0cb2/result/0?rowFormat=JSON \"HTTP/1.1 200 OK\"\n",
      "2025-04-20 08:23:39,963 - resinkit.session_utils - DEBUG - Fetch result: {'isQueryResult': False, 'nextResultUri': '/v2/sessions/7a242b06-276f-4044-8595-d9470ecbca2f/operations/4fa7cd76-e2a9-4a75-ae2b-be5640cd0cb2/result/1?rowFormat=JSON', 'resultKind': 'SUCCESS', 'resultType': 'PAYLOAD', 'results': {'columns': [{'name': 'result', 'logicalType': {'type': 'VARCHAR', 'nullable': True, 'length': 2147483647}, 'comment': None}], 'columnInfos': [], 'data': [{'kind': 'INSERT', 'fields': ['OK']}], 'fieldGetters': [], 'rowFormat': 'JSON'}}\n"
     ]
    },
    {
     "name": "stdout",
     "output_type": "stream",
     "text": [
      "Executing: DROP TABLE IF EXISTS MyTable\n"
     ]
    },
    {
     "name": "stderr",
     "output_type": "stream",
     "text": [
      "2025-04-20 08:23:40,068 - httpx - INFO - HTTP Request: GET http://localhost:8083/v2/sessions/7a242b06-276f-4044-8595-d9470ecbca2f/operations/4fa7cd76-e2a9-4a75-ae2b-be5640cd0cb2/result/1?rowFormat=JSON \"HTTP/1.1 200 OK\"\n",
      "2025-04-20 08:23:40,068 - resinkit.session_utils - DEBUG - Fetch result: {'isQueryResult': False, 'resultKind': 'SUCCESS', 'resultType': 'EOS', 'results': {'columns': [{'name': 'result', 'logicalType': {'type': 'VARCHAR', 'nullable': True, 'length': 2147483647}, 'comment': None}], 'columnInfos': [], 'data': [], 'fieldGetters': [], 'rowFormat': 'JSON'}}\n",
      "2025-04-20 08:23:40,071 - httpx - INFO - HTTP Request: DELETE http://localhost:8083/sessions/7a242b06-276f-4044-8595-d9470ecbca2f/operations/4fa7cd76-e2a9-4a75-ae2b-be5640cd0cb2/close \"HTTP/1.1 200 OK\"\n",
      "2025-04-20 08:23:40,074 - httpx - INFO - HTTP Request: POST http://localhost:8083/sessions/7a242b06-276f-4044-8595-d9470ecbca2f/statements \"HTTP/1.1 200 OK\"\n",
      "2025-04-20 08:23:40,077 - httpx - INFO - HTTP Request: GET http://localhost:8083/sessions/7a242b06-276f-4044-8595-d9470ecbca2f/operations/1e52ac38-600e-4128-b20c-dca1898b87bc/result/0?rowFormat=JSON \"HTTP/1.1 200 OK\"\n",
      "2025-04-20 08:23:40,077 - resinkit.session_utils - DEBUG - Fetch result: {'nextResultUri': '/v2/sessions/7a242b06-276f-4044-8595-d9470ecbca2f/operations/1e52ac38-600e-4128-b20c-dca1898b87bc/result/0?rowFormat=JSON', 'resultType': 'NOT_READY'}\n",
      "2025-04-20 08:23:40,185 - httpx - INFO - HTTP Request: GET http://localhost:8083/v2/sessions/7a242b06-276f-4044-8595-d9470ecbca2f/operations/1e52ac38-600e-4128-b20c-dca1898b87bc/result/0?rowFormat=JSON \"HTTP/1.1 200 OK\"\n",
      "2025-04-20 08:23:40,186 - resinkit.session_utils - DEBUG - Fetch result: {'isQueryResult': False, 'nextResultUri': '/v2/sessions/7a242b06-276f-4044-8595-d9470ecbca2f/operations/1e52ac38-600e-4128-b20c-dca1898b87bc/result/1?rowFormat=JSON', 'resultKind': 'SUCCESS', 'resultType': 'PAYLOAD', 'results': {'columns': [{'name': 'result', 'logicalType': {'type': 'VARCHAR', 'nullable': True, 'length': 2147483647}, 'comment': None}], 'columnInfos': [], 'data': [{'kind': 'INSERT', 'fields': ['OK']}], 'fieldGetters': [], 'rowFormat': 'JSON'}}\n"
     ]
    },
    {
     "name": "stdout",
     "output_type": "stream",
     "text": [
      "Executing: -- Create table with Paimon-specific options\n",
      "CREATE TABLE MyTable (\n",
      "    user_id BIGINT,\n",
      "    item_id BIGINT,\n",
      "    behavior STRING,\n",
      "    dt STRING,\n",
      "    PRIMARY KEY (dt, user_id) NOT ENFORCED\n",
      ") PARTITIONED BY (dt) WITH (\n",
      "    'bucket' = '4',\n",
      "    'changelog-producer' = 'input'\n",
      ")\n"
     ]
    },
    {
     "name": "stderr",
     "output_type": "stream",
     "text": [
      "2025-04-20 08:23:40,294 - httpx - INFO - HTTP Request: GET http://localhost:8083/v2/sessions/7a242b06-276f-4044-8595-d9470ecbca2f/operations/1e52ac38-600e-4128-b20c-dca1898b87bc/result/1?rowFormat=JSON \"HTTP/1.1 200 OK\"\n",
      "2025-04-20 08:23:40,295 - resinkit.session_utils - DEBUG - Fetch result: {'isQueryResult': False, 'resultKind': 'SUCCESS', 'resultType': 'EOS', 'results': {'columns': [{'name': 'result', 'logicalType': {'type': 'VARCHAR', 'nullable': True, 'length': 2147483647}, 'comment': None}], 'columnInfos': [], 'data': [], 'fieldGetters': [], 'rowFormat': 'JSON'}}\n",
      "2025-04-20 08:23:40,298 - httpx - INFO - HTTP Request: DELETE http://localhost:8083/sessions/7a242b06-276f-4044-8595-d9470ecbca2f/operations/1e52ac38-600e-4128-b20c-dca1898b87bc/close \"HTTP/1.1 200 OK\"\n",
      "2025-04-20 08:23:40,302 - httpx - INFO - HTTP Request: POST http://localhost:8083/sessions/7a242b06-276f-4044-8595-d9470ecbca2f/statements \"HTTP/1.1 200 OK\"\n",
      "2025-04-20 08:23:40,304 - httpx - INFO - HTTP Request: GET http://localhost:8083/sessions/7a242b06-276f-4044-8595-d9470ecbca2f/operations/2771dc5e-bdac-4cf3-8e42-a1e702720580/result/0?rowFormat=JSON \"HTTP/1.1 200 OK\"\n",
      "2025-04-20 08:23:40,305 - resinkit.session_utils - DEBUG - Fetch result: {'nextResultUri': '/v2/sessions/7a242b06-276f-4044-8595-d9470ecbca2f/operations/2771dc5e-bdac-4cf3-8e42-a1e702720580/result/0?rowFormat=JSON', 'resultType': 'NOT_READY'}\n",
      "2025-04-20 08:23:40,412 - httpx - INFO - HTTP Request: GET http://localhost:8083/v2/sessions/7a242b06-276f-4044-8595-d9470ecbca2f/operations/2771dc5e-bdac-4cf3-8e42-a1e702720580/result/0?rowFormat=JSON \"HTTP/1.1 200 OK\"\n",
      "2025-04-20 08:23:40,413 - resinkit.session_utils - DEBUG - Fetch result: {'nextResultUri': '/v2/sessions/7a242b06-276f-4044-8595-d9470ecbca2f/operations/2771dc5e-bdac-4cf3-8e42-a1e702720580/result/0?rowFormat=JSON', 'resultType': 'NOT_READY'}\n"
     ]
    },
    {
     "name": "stdout",
     "output_type": "stream",
     "text": [
      "Executing: INSERT INTO MyTable (user_id, item_id, behavior, dt) VALUES\n",
      "    (1001, 5001, 'view', '2024-01-01'),\n",
      "    (1001, 5002, 'like', '2024-01-01'),\n",
      "    (1002, 5001, 'cart', '2024-01-01'),\n",
      "    (1003, 5003, 'purchase', '2024-01-01'),\n",
      "    (1001, 5004, 'view', '2024-01-02'),\n",
      "    (1002, 5002, 'view', '2024-01-02'),\n",
      "    (1002, 5002, 'like', '2024-01-02'),\n",
      "    (1003, 5001, 'cart', '2024-01-02'),\n",
      "    (1004, 5005, 'view', '2024-01-02'),\n",
      "    (1001, 5003, 'purchase', '2024-01-03'),\n",
      "    (1002, 5004, 'view', '2024-01-03'),\n",
      "    (1003, 5002, 'like', '2024-01-03'),\n",
      "    (1004, 5001, 'cart', '2024-01-03'),\n",
      "    (1005, 5005, 'purchase', '2024-01-03'),\n",
      "    (1001, 5001, 'view', '2024-01-04')\n"
     ]
    },
    {
     "name": "stderr",
     "output_type": "stream",
     "text": [
      "2025-04-20 08:23:40,522 - httpx - INFO - HTTP Request: GET http://localhost:8083/v2/sessions/7a242b06-276f-4044-8595-d9470ecbca2f/operations/2771dc5e-bdac-4cf3-8e42-a1e702720580/result/0?rowFormat=JSON \"HTTP/1.1 200 OK\"\n",
      "2025-04-20 08:23:40,522 - resinkit.session_utils - DEBUG - Fetch result: {'nextResultUri': '/v2/sessions/7a242b06-276f-4044-8595-d9470ecbca2f/operations/2771dc5e-bdac-4cf3-8e42-a1e702720580/result/0?rowFormat=JSON', 'resultType': 'NOT_READY'}\n",
      "2025-04-20 08:23:40,629 - httpx - INFO - HTTP Request: GET http://localhost:8083/v2/sessions/7a242b06-276f-4044-8595-d9470ecbca2f/operations/2771dc5e-bdac-4cf3-8e42-a1e702720580/result/0?rowFormat=JSON \"HTTP/1.1 200 OK\"\n",
      "2025-04-20 08:23:40,630 - resinkit.session_utils - DEBUG - Fetch result: {'isQueryResult': False, 'jobID': '2763f11f45f0f2ad1bd088868093b4a1', 'nextResultUri': '/v2/sessions/7a242b06-276f-4044-8595-d9470ecbca2f/operations/2771dc5e-bdac-4cf3-8e42-a1e702720580/result/1?rowFormat=JSON', 'resultKind': 'SUCCESS_WITH_CONTENT', 'resultType': 'PAYLOAD', 'results': {'columns': [{'name': 'job id', 'logicalType': {'type': 'VARCHAR', 'nullable': True, 'length': 2147483647}, 'comment': None}], 'columnInfos': [], 'data': [{'kind': 'INSERT', 'fields': ['2763f11f45f0f2ad1bd088868093b4a1']}], 'fieldGetters': [], 'rowFormat': 'JSON'}}\n",
      "2025-04-20 08:23:40,737 - httpx - INFO - HTTP Request: GET http://localhost:8083/v2/sessions/7a242b06-276f-4044-8595-d9470ecbca2f/operations/2771dc5e-bdac-4cf3-8e42-a1e702720580/result/1?rowFormat=JSON \"HTTP/1.1 200 OK\"\n",
      "2025-04-20 08:23:40,737 - resinkit.session_utils - DEBUG - Fetch result: {'isQueryResult': False, 'jobID': '2763f11f45f0f2ad1bd088868093b4a1', 'resultKind': 'SUCCESS_WITH_CONTENT', 'resultType': 'EOS', 'results': {'columns': [{'name': 'job id', 'logicalType': {'type': 'VARCHAR', 'nullable': True, 'length': 2147483647}, 'comment': None}], 'columnInfos': [], 'data': [], 'fieldGetters': [], 'rowFormat': 'JSON'}}\n",
      "2025-04-20 08:23:40,742 - httpx - INFO - HTTP Request: DELETE http://localhost:8083/sessions/7a242b06-276f-4044-8595-d9470ecbca2f/operations/2771dc5e-bdac-4cf3-8e42-a1e702720580/close \"HTTP/1.1 200 OK\"\n",
      "2025-04-20 08:23:40,746 - httpx - INFO - HTTP Request: POST http://localhost:8083/sessions/7a242b06-276f-4044-8595-d9470ecbca2f/statements \"HTTP/1.1 200 OK\"\n",
      "2025-04-20 08:23:40,750 - httpx - INFO - HTTP Request: GET http://localhost:8083/sessions/7a242b06-276f-4044-8595-d9470ecbca2f/operations/fc0f4e9b-4486-4901-8b5d-252f2e372dfe/result/0?rowFormat=JSON \"HTTP/1.1 200 OK\"\n",
      "2025-04-20 08:23:40,752 - resinkit.session_utils - DEBUG - Fetch result: {'nextResultUri': '/v2/sessions/7a242b06-276f-4044-8595-d9470ecbca2f/operations/fc0f4e9b-4486-4901-8b5d-252f2e372dfe/result/0?rowFormat=JSON', 'resultType': 'NOT_READY'}\n",
      "2025-04-20 08:23:40,855 - httpx - INFO - HTTP Request: GET http://localhost:8083/v2/sessions/7a242b06-276f-4044-8595-d9470ecbca2f/operations/fc0f4e9b-4486-4901-8b5d-252f2e372dfe/result/0?rowFormat=JSON \"HTTP/1.1 200 OK\"\n",
      "2025-04-20 08:23:40,856 - resinkit.session_utils - DEBUG - Fetch result: {'isQueryResult': False, 'nextResultUri': '/v2/sessions/7a242b06-276f-4044-8595-d9470ecbca2f/operations/fc0f4e9b-4486-4901-8b5d-252f2e372dfe/result/1?rowFormat=JSON', 'resultKind': 'SUCCESS', 'resultType': 'PAYLOAD', 'results': {'columns': [{'name': 'result', 'logicalType': {'type': 'VARCHAR', 'nullable': True, 'length': 2147483647}, 'comment': None}], 'columnInfos': [], 'data': [{'kind': 'INSERT', 'fields': ['OK']}], 'fieldGetters': [], 'rowFormat': 'JSON'}}\n"
     ]
    },
    {
     "name": "stdout",
     "output_type": "stream",
     "text": [
      "Executing: -- For batch query\n",
      "SET 'execution.runtime-mode' = 'batch'\n"
     ]
    },
    {
     "name": "stderr",
     "output_type": "stream",
     "text": [
      "2025-04-20 08:23:41,002 - httpx - INFO - HTTP Request: GET http://localhost:8083/v2/sessions/7a242b06-276f-4044-8595-d9470ecbca2f/operations/fc0f4e9b-4486-4901-8b5d-252f2e372dfe/result/1?rowFormat=JSON \"HTTP/1.1 200 OK\"\n",
      "2025-04-20 08:23:41,003 - resinkit.session_utils - DEBUG - Fetch result: {'isQueryResult': False, 'resultKind': 'SUCCESS', 'resultType': 'EOS', 'results': {'columns': [{'name': 'result', 'logicalType': {'type': 'VARCHAR', 'nullable': True, 'length': 2147483647}, 'comment': None}], 'columnInfos': [], 'data': [], 'fieldGetters': [], 'rowFormat': 'JSON'}}\n",
      "2025-04-20 08:23:41,006 - httpx - INFO - HTTP Request: DELETE http://localhost:8083/sessions/7a242b06-276f-4044-8595-d9470ecbca2f/operations/fc0f4e9b-4486-4901-8b5d-252f2e372dfe/close \"HTTP/1.1 200 OK\"\n",
      "2025-04-20 08:23:41,013 - httpx - INFO - HTTP Request: POST http://localhost:8083/sessions/7a242b06-276f-4044-8595-d9470ecbca2f/statements \"HTTP/1.1 200 OK\"\n",
      "2025-04-20 08:23:41,016 - httpx - INFO - HTTP Request: GET http://localhost:8083/sessions/7a242b06-276f-4044-8595-d9470ecbca2f/operations/d90eafe2-fe7d-4799-baf1-236ba1532cac/result/0?rowFormat=JSON \"HTTP/1.1 200 OK\"\n",
      "2025-04-20 08:23:41,016 - resinkit.session_utils - DEBUG - Fetch result: {'nextResultUri': '/v2/sessions/7a242b06-276f-4044-8595-d9470ecbca2f/operations/d90eafe2-fe7d-4799-baf1-236ba1532cac/result/0?rowFormat=JSON', 'resultType': 'NOT_READY'}\n",
      "2025-04-20 08:23:41,124 - httpx - INFO - HTTP Request: GET http://localhost:8083/v2/sessions/7a242b06-276f-4044-8595-d9470ecbca2f/operations/d90eafe2-fe7d-4799-baf1-236ba1532cac/result/0?rowFormat=JSON \"HTTP/1.1 200 OK\"\n",
      "2025-04-20 08:23:41,125 - resinkit.session_utils - DEBUG - Fetch result: {'nextResultUri': '/v2/sessions/7a242b06-276f-4044-8595-d9470ecbca2f/operations/d90eafe2-fe7d-4799-baf1-236ba1532cac/result/0?rowFormat=JSON', 'resultType': 'NOT_READY'}\n"
     ]
    },
    {
     "name": "stdout",
     "output_type": "stream",
     "text": [
      "Executing: -- Remove the invalid orders table query\n",
      "-- Instead query the created table\n",
      "SELECT * FROM MyTable\n"
     ]
    },
    {
     "name": "stderr",
     "output_type": "stream",
     "text": [
      "2025-04-20 08:23:41,230 - httpx - INFO - HTTP Request: GET http://localhost:8083/v2/sessions/7a242b06-276f-4044-8595-d9470ecbca2f/operations/d90eafe2-fe7d-4799-baf1-236ba1532cac/result/0?rowFormat=JSON \"HTTP/1.1 200 OK\"\n",
      "2025-04-20 08:23:41,230 - resinkit.session_utils - DEBUG - Fetch result: {'isQueryResult': True, 'jobID': 'bc31e66ca904ad96972a59b532f52ad7', 'nextResultUri': '/v2/sessions/7a242b06-276f-4044-8595-d9470ecbca2f/operations/d90eafe2-fe7d-4799-baf1-236ba1532cac/result/1?rowFormat=JSON', 'resultKind': 'SUCCESS_WITH_CONTENT', 'resultType': 'PAYLOAD', 'results': {'columns': [{'name': 'user_id', 'logicalType': {'type': 'BIGINT', 'nullable': False}, 'comment': None}, {'name': 'item_id', 'logicalType': {'type': 'BIGINT', 'nullable': True}, 'comment': None}, {'name': 'behavior', 'logicalType': {'type': 'VARCHAR', 'nullable': True, 'length': 2147483647}, 'comment': None}, {'name': 'dt', 'logicalType': {'type': 'VARCHAR', 'nullable': False, 'length': 2147483647}, 'comment': None}], 'columnInfos': [], 'data': [], 'fieldGetters': [], 'rowFormat': 'JSON'}}\n",
      "2025-04-20 08:23:41,339 - httpx - INFO - HTTP Request: GET http://localhost:8083/v2/sessions/7a242b06-276f-4044-8595-d9470ecbca2f/operations/d90eafe2-fe7d-4799-baf1-236ba1532cac/result/1?rowFormat=JSON \"HTTP/1.1 200 OK\"\n",
      "2025-04-20 08:23:41,340 - resinkit.session_utils - DEBUG - Fetch result: {'isQueryResult': True, 'jobID': 'bc31e66ca904ad96972a59b532f52ad7', 'nextResultUri': '/v2/sessions/7a242b06-276f-4044-8595-d9470ecbca2f/operations/d90eafe2-fe7d-4799-baf1-236ba1532cac/result/2?rowFormat=JSON', 'resultKind': 'SUCCESS_WITH_CONTENT', 'resultType': 'PAYLOAD', 'results': {'columns': [{'name': 'user_id', 'logicalType': {'type': 'BIGINT', 'nullable': False}, 'comment': None}, {'name': 'item_id', 'logicalType': {'type': 'BIGINT', 'nullable': True}, 'comment': None}, {'name': 'behavior', 'logicalType': {'type': 'VARCHAR', 'nullable': True, 'length': 2147483647}, 'comment': None}, {'name': 'dt', 'logicalType': {'type': 'VARCHAR', 'nullable': False, 'length': 2147483647}, 'comment': None}], 'columnInfos': [], 'data': [{'kind': 'INSERT', 'fields': [1005, 5005, 'purchase', '2024-01-03']}, {'kind': 'INSERT', 'fields': [1004, 5001, 'cart', '2024-01-03']}, {'kind': 'INSERT', 'fields': [1002, 5004, 'view', '2024-01-03']}, {'kind': 'INSERT', 'fields': [1001, 5001, 'view', '2024-01-04']}, {'kind': 'INSERT', 'fields': [1002, 5001, 'cart', '2024-01-01']}, {'kind': 'INSERT', 'fields': [1004, 5005, 'view', '2024-01-02']}, {'kind': 'INSERT', 'fields': [1002, 5002, 'like', '2024-01-02']}, {'kind': 'INSERT', 'fields': [1001, 5003, 'purchase', '2024-01-03']}, {'kind': 'INSERT', 'fields': [1003, 5002, 'like', '2024-01-03']}, {'kind': 'INSERT', 'fields': [1001, 5002, 'like', '2024-01-01']}, {'kind': 'INSERT', 'fields': [1003, 5003, 'purchase', '2024-01-01']}, {'kind': 'INSERT', 'fields': [1001, 5004, 'view', '2024-01-02']}, {'kind': 'INSERT', 'fields': [1003, 5001, 'cart', '2024-01-02']}], 'fieldGetters': [], 'rowFormat': 'JSON'}}\n",
      "2025-04-20 08:23:41,448 - httpx - INFO - HTTP Request: GET http://localhost:8083/v2/sessions/7a242b06-276f-4044-8595-d9470ecbca2f/operations/d90eafe2-fe7d-4799-baf1-236ba1532cac/result/2?rowFormat=JSON \"HTTP/1.1 200 OK\"\n",
      "2025-04-20 08:23:41,448 - resinkit.session_utils - DEBUG - Fetch result: {'isQueryResult': True, 'jobID': 'bc31e66ca904ad96972a59b532f52ad7', 'resultKind': 'SUCCESS_WITH_CONTENT', 'resultType': 'EOS', 'results': {'columns': [{'name': 'user_id', 'logicalType': {'type': 'BIGINT', 'nullable': False}, 'comment': None}, {'name': 'item_id', 'logicalType': {'type': 'BIGINT', 'nullable': True}, 'comment': None}, {'name': 'behavior', 'logicalType': {'type': 'VARCHAR', 'nullable': True, 'length': 2147483647}, 'comment': None}, {'name': 'dt', 'logicalType': {'type': 'VARCHAR', 'nullable': False, 'length': 2147483647}, 'comment': None}], 'columnInfos': [], 'data': [], 'fieldGetters': [], 'rowFormat': 'JSON'}}\n",
      "2025-04-20 08:23:41,463 - httpx - INFO - HTTP Request: DELETE http://localhost:8083/sessions/7a242b06-276f-4044-8595-d9470ecbca2f/operations/d90eafe2-fe7d-4799-baf1-236ba1532cac/close \"HTTP/1.1 200 OK\"\n",
      "2025-04-20 08:23:41,467 - httpx - INFO - HTTP Request: DELETE http://localhost:8083/sessions/7a242b06-276f-4044-8595-d9470ecbca2f \"HTTP/1.1 200 OK\"\n"
     ]
    },
    {
     "data": {
      "text/plain": [
       "[  result\n",
       " 0     OK,\n",
       "   result\n",
       " 0     OK,\n",
       "   result\n",
       " 0     OK,\n",
       "   result\n",
       " 0     OK,\n",
       "   result\n",
       " 0     OK,\n",
       "                              job id\n",
       " 0  2763f11f45f0f2ad1bd088868093b4a1,\n",
       "   result\n",
       " 0     OK,\n",
       "     user_id  item_id  behavior          dt\n",
       " 0      1005     5005  purchase  2024-01-03\n",
       " 1      1004     5001      cart  2024-01-03\n",
       " 2      1002     5004      view  2024-01-03\n",
       " 3      1001     5001      view  2024-01-04\n",
       " 4      1002     5001      cart  2024-01-01\n",
       " 5      1004     5005      view  2024-01-02\n",
       " 6      1002     5002      like  2024-01-02\n",
       " 7      1001     5003  purchase  2024-01-03\n",
       " 8      1003     5002      like  2024-01-03\n",
       " 9      1001     5002      like  2024-01-01\n",
       " 10     1003     5003  purchase  2024-01-01\n",
       " 11     1001     5004      view  2024-01-02\n",
       " 12     1003     5001      cart  2024-01-02]"
      ]
     },
     "execution_count": 5,
     "metadata": {},
     "output_type": "execute_result"
    }
   ],
   "source": [
    "import time\n",
    "from typing import TYPE_CHECKING\n",
    "from resinkit.flink_operation import ResultsFetchOpts\n",
    "from flink_gateway_api import Client\n",
    "import logging\n",
    "\n",
    "from resinkit.flink_session import FlinkSession\n",
    "\n",
    "# Configure the root logger\n",
    "logging.basicConfig(\n",
    "    level=logging.DEBUG,\n",
    "    format='%(asctime)s - %(name)s - %(levelname)s - %(message)s',\n",
    "    handlers=[logging.StreamHandler()]\n",
    ")\n",
    "logging.getLogger(\"httpcore.http11\").setLevel(logging.INFO)\n",
    "logging.getLogger('httpcore.connection').setLevel(logging.INFO)\n",
    "\n",
    "import nest_asyncio\n",
    "nest_asyncio.apply()  # Allow nested event loops\n",
    "fg_client = Client(base_url=\"http://localhost:8083\", raise_on_unexpected_status=True)\n",
    "\n",
    "if TYPE_CHECKING:\n",
    "    from resinkit.flink_operation import FlinkOperation\n",
    "\n",
    "_ts = int(time.time() * 1000)\n",
    "\n",
    "sql_text = f'''\n",
    "-- Create Paimon catalog\n",
    "\n",
    "DROP CATALOG IF EXISTS my_catalog;\n",
    "\n",
    "CREATE CATALOG my_catalog WITH (\n",
    "    'type'='paimon',\n",
    "    'warehouse'='file:/tmp/paimon_{_ts}'\n",
    ");\n",
    "\n",
    "USE CATALOG my_catalog;\n",
    "\n",
    "DROP TABLE IF EXISTS MyTable;\n",
    "\n",
    "-- Create table with Paimon-specific options\n",
    "CREATE TABLE MyTable (\n",
    "    user_id BIGINT,\n",
    "    item_id BIGINT,\n",
    "    behavior STRING,\n",
    "    dt STRING,\n",
    "    PRIMARY KEY (dt, user_id) NOT ENFORCED\n",
    ") PARTITIONED BY (dt) WITH (\n",
    "    'bucket' = '4',\n",
    "    'changelog-producer' = 'input'\n",
    ");\n",
    "\n",
    "INSERT INTO MyTable (user_id, item_id, behavior, dt) VALUES\n",
    "    (1001, 5001, 'view', '2024-01-01'),\n",
    "    (1001, 5002, 'like', '2024-01-01'),\n",
    "    (1002, 5001, 'cart', '2024-01-01'),\n",
    "    (1003, 5003, 'purchase', '2024-01-01'),\n",
    "    (1001, 5004, 'view', '2024-01-02'),\n",
    "    (1002, 5002, 'view', '2024-01-02'),\n",
    "    (1002, 5002, 'like', '2024-01-02'),\n",
    "    (1003, 5001, 'cart', '2024-01-02'),\n",
    "    (1004, 5005, 'view', '2024-01-02'),\n",
    "    (1001, 5003, 'purchase', '2024-01-03'),\n",
    "    (1002, 5004, 'view', '2024-01-03'),\n",
    "    (1003, 5002, 'like', '2024-01-03'),\n",
    "    (1004, 5001, 'cart', '2024-01-03'),\n",
    "    (1005, 5005, 'purchase', '2024-01-03'),\n",
    "    (1001, 5001, 'view', '2024-01-04');\n",
    "\n",
    "-- For batch query\n",
    "SET 'execution.runtime-mode' = 'batch';\n",
    "-- Remove the invalid orders table query\n",
    "-- Instead query the created table\n",
    "SELECT * FROM MyTable;\n",
    "'''\n",
    "dfs = []\n",
    "with FlinkSession(fg_client) as session:\n",
    "    for s in sql_text.split(';'):\n",
    "        s = s.strip()\n",
    "        if not s:\n",
    "            continue\n",
    "        print(f\"Executing: {s}\")\n",
    "        with session.execute(s).sync() as operation:  # type: FlinkOperation\n",
    "            dfs.append(operation.fetch(ResultsFetchOpts()).sync())\n",
    "dfs"
   ]
  },
  {
   "cell_type": "code",
   "execution_count": 6,
   "id": "2e8b4a87441a9a0",
   "metadata": {
    "ExecuteTime": {
     "end_time": "2024-12-31T19:01:40.741312Z",
     "start_time": "2024-12-31T19:01:40.728426Z"
    }
   },
   "outputs": [
    {
     "data": {
      "text/plain": [
       "[(1, 1), (1, 1), (1, 1), (1, 1), (1, 1), (1, 1), (1, 1), (13, 4)]"
      ]
     },
     "execution_count": 6,
     "metadata": {},
     "output_type": "execute_result"
    }
   ],
   "source": [
    "[x.shape for x in dfs]"
   ]
  },
  {
   "cell_type": "code",
   "execution_count": 7,
   "id": "b2a1fddac06787fd",
   "metadata": {
    "ExecuteTime": {
     "end_time": "2024-12-31T19:06:05.760234Z",
     "start_time": "2024-12-31T19:06:05.748140Z"
    }
   },
   "outputs": [
    {
     "data": {
      "text/html": [
       "<div>\n",
       "<style scoped>\n",
       "    .dataframe tbody tr th:only-of-type {\n",
       "        vertical-align: middle;\n",
       "    }\n",
       "\n",
       "    .dataframe tbody tr th {\n",
       "        vertical-align: top;\n",
       "    }\n",
       "\n",
       "    .dataframe thead th {\n",
       "        text-align: right;\n",
       "    }\n",
       "</style>\n",
       "<table border=\"1\" class=\"dataframe\">\n",
       "  <thead>\n",
       "    <tr style=\"text-align: right;\">\n",
       "      <th></th>\n",
       "      <th>user_id</th>\n",
       "      <th>item_id</th>\n",
       "      <th>behavior</th>\n",
       "      <th>dt</th>\n",
       "    </tr>\n",
       "  </thead>\n",
       "  <tbody>\n",
       "    <tr>\n",
       "      <th>0</th>\n",
       "      <td>1005</td>\n",
       "      <td>5005</td>\n",
       "      <td>purchase</td>\n",
       "      <td>2024-01-03</td>\n",
       "    </tr>\n",
       "    <tr>\n",
       "      <th>1</th>\n",
       "      <td>1004</td>\n",
       "      <td>5001</td>\n",
       "      <td>cart</td>\n",
       "      <td>2024-01-03</td>\n",
       "    </tr>\n",
       "    <tr>\n",
       "      <th>2</th>\n",
       "      <td>1002</td>\n",
       "      <td>5004</td>\n",
       "      <td>view</td>\n",
       "      <td>2024-01-03</td>\n",
       "    </tr>\n",
       "    <tr>\n",
       "      <th>3</th>\n",
       "      <td>1001</td>\n",
       "      <td>5001</td>\n",
       "      <td>view</td>\n",
       "      <td>2024-01-04</td>\n",
       "    </tr>\n",
       "    <tr>\n",
       "      <th>4</th>\n",
       "      <td>1002</td>\n",
       "      <td>5001</td>\n",
       "      <td>cart</td>\n",
       "      <td>2024-01-01</td>\n",
       "    </tr>\n",
       "  </tbody>\n",
       "</table>\n",
       "</div>"
      ],
      "text/plain": [
       "   user_id  item_id  behavior          dt\n",
       "0     1005     5005  purchase  2024-01-03\n",
       "1     1004     5001      cart  2024-01-03\n",
       "2     1002     5004      view  2024-01-03\n",
       "3     1001     5001      view  2024-01-04\n",
       "4     1002     5001      cart  2024-01-01"
      ]
     },
     "execution_count": 7,
     "metadata": {},
     "output_type": "execute_result"
    }
   ],
   "source": [
    "dfs[-1].head()"
   ]
  },
  {
   "cell_type": "code",
   "execution_count": null,
   "id": "5d9416f4db8addff",
   "metadata": {
    "ExecuteTime": {
     "end_time": "2024-12-31T19:06:36.650651Z",
     "start_time": "2024-12-31T19:06:36.644361Z"
    }
   },
   "outputs": [],
   "source": []
  },
  {
   "cell_type": "code",
   "execution_count": null,
   "id": "10ba2da6dbee7fa2",
   "metadata": {
    "ExecuteTime": {
     "end_time": "2024-12-31T19:06:10.765420Z",
     "start_time": "2024-12-31T19:06:10.763636Z"
    }
   },
   "outputs": [],
   "source": []
  },
  {
   "cell_type": "code",
   "execution_count": null,
   "id": "2d6d1f1ec41d9c8d",
   "metadata": {},
   "outputs": [],
   "source": []
  }
 ],
 "metadata": {
  "kernelspec": {
   "display_name": "jupyter-paimon",
   "language": "python",
   "name": "python3"
  },
  "language_info": {
   "codemirror_mode": {
    "name": "ipython",
    "version": 3
   },
   "file_extension": ".py",
   "mimetype": "text/x-python",
   "name": "python",
   "nbconvert_exporter": "python",
   "pygments_lexer": "ipython3",
   "version": "3.11.9"
  }
 },
 "nbformat": 4,
 "nbformat_minor": 5
}
