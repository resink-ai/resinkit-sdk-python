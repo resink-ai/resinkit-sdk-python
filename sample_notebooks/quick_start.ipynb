{
 "cells": [
  {
   "cell_type": "code",
   "id": "initial_id",
   "metadata": {
    "collapsed": true,
    "ExecuteTime": {
     "end_time": "2024-12-25T21:10:29.566264Z",
     "start_time": "2024-12-25T21:10:11.299740Z"
    }
   },
   "source": [
    "from resinkit import AsyncResinkitClient\n",
    "import asyncio\n",
    "import nest_asyncio\n",
    "nest_asyncio.apply()  # Allow nested event loops\n",
    "\n",
    "rc = AsyncResinkitClient(flink_gateway_url=\"http://localhost:8083\")\n",
    "res = asyncio.run(rc.query(\"SELECT 23 as age, 'Alice Liddel' as name;\"))\n"
   ],
   "outputs": [],
   "execution_count": 2
  },
  {
   "metadata": {
    "ExecuteTime": {
     "end_time": "2024-12-25T21:10:35.127861Z",
     "start_time": "2024-12-25T21:10:35.121121Z"
    }
   },
   "cell_type": "code",
   "source": "res",
   "id": "b612643498eb1a5f",
   "outputs": [
    {
     "data": {
      "text/plain": [
       "   age          name\n",
       "0   23  Alice Liddel"
      ],
      "text/html": [
       "<div>\n",
       "<style scoped>\n",
       "    .dataframe tbody tr th:only-of-type {\n",
       "        vertical-align: middle;\n",
       "    }\n",
       "\n",
       "    .dataframe tbody tr th {\n",
       "        vertical-align: top;\n",
       "    }\n",
       "\n",
       "    .dataframe thead th {\n",
       "        text-align: right;\n",
       "    }\n",
       "</style>\n",
       "<table border=\"1\" class=\"dataframe\">\n",
       "  <thead>\n",
       "    <tr style=\"text-align: right;\">\n",
       "      <th></th>\n",
       "      <th>age</th>\n",
       "      <th>name</th>\n",
       "    </tr>\n",
       "  </thead>\n",
       "  <tbody>\n",
       "    <tr>\n",
       "      <th>0</th>\n",
       "      <td>23</td>\n",
       "      <td>Alice Liddel</td>\n",
       "    </tr>\n",
       "  </tbody>\n",
       "</table>\n",
       "</div>"
      ]
     },
     "execution_count": 3,
     "metadata": {},
     "output_type": "execute_result"
    }
   ],
   "execution_count": 3
  },
  {
   "metadata": {
    "ExecuteTime": {
     "end_time": "2024-12-25T21:02:19.270274Z",
     "start_time": "2024-12-25T21:02:19.265936Z"
    }
   },
   "cell_type": "code",
   "source": "",
   "id": "e839913ddbeb6309",
   "outputs": [],
   "execution_count": null
  }
 ],
 "metadata": {
  "kernelspec": {
   "display_name": "Python 3",
   "language": "python",
   "name": "python3"
  },
  "language_info": {
   "codemirror_mode": {
    "name": "ipython",
    "version": 2
   },
   "file_extension": ".py",
   "mimetype": "text/x-python",
   "name": "python",
   "nbconvert_exporter": "python",
   "pygments_lexer": "ipython2",
   "version": "2.7.6"
  }
 },
 "nbformat": 4,
 "nbformat_minor": 5
}
